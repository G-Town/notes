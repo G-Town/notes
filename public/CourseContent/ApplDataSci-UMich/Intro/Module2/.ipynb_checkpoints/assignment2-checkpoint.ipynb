{
 "cells": [
  {
   "cell_type": "markdown",
   "metadata": {
    "deletable": false,
    "editable": false,
    "nbgrader": {
     "checksum": "5a8d839ee00398fa3bd3bc58ec642beb",
     "grade": false,
     "grade_id": "cell-a839e7b47494b4c3",
     "locked": true,
     "schema_version": 1,
     "solution": false
    }
   },
   "source": [
    "# Assignment 2\n",
    "For this assignment you'll be looking at 2017 data on immunizations from the CDC. Your datafile for this assignment is in [assets/NISPUF17.csv](assets/NISPUF17.csv). A data users guide for this, which you'll need to map the variables in the data to the questions being asked, is available at [assets/NIS-PUF17-DUG.pdf](assets/NIS-PUF17-DUG.pdf). **Note: you may have to go to your Jupyter tree (click on the Coursera image) and navigate to the assignment 2 assets folder to see this PDF file).**"
   ]
  },
  {
   "cell_type": "markdown",
   "metadata": {
    "deletable": false,
    "editable": false,
    "hideCode": false,
    "hidePrompt": false,
    "nbgrader": {
     "checksum": "aaa5e730f40ba21c1bc94f864bad4742",
     "grade": false,
     "grade_id": "cell-58fc2e5938733f6a",
     "locked": true,
     "schema_version": 1,
     "solution": false
    }
   },
   "source": [
    "## Question 1\n",
    "Write a function called `proportion_of_education` which returns the proportion of children in the dataset who had a mother with the education levels equal to less than high school (<12), high school (12), more than high school but not a college graduate (>12) and college degree.\n",
    "\n",
    "*This function should return a dictionary in the form of (use the correct numbers, do not round numbers):* \n",
    "```\n",
    "    {\"less than high school\":0.2,\n",
    "    \"high school\":0.4,\n",
    "    \"more than high school but not college\":0.2,\n",
    "    \"college\":0.2}\n",
    "```\n"
   ]
  },
  {
   "cell_type": "code",
   "execution_count": 1,
   "metadata": {
    "deletable": false,
    "nbgrader": {
     "checksum": "0ac58deb3f5ac988c643e903cbee7f3a",
     "grade": false,
     "grade_id": "cell-eea16d020eb52ae7",
     "locked": false,
     "schema_version": 1,
     "solution": true
    }
   },
   "outputs": [
    {
     "data": {
      "text/plain": [
       "{'less than high school': 0.10202002459160373,\n",
       " 'high school': 0.172352011241876,\n",
       " 'more than high school but not college': 0.24588090637625154,\n",
       " 'college': 0.47974705779026877}"
      ]
     },
     "execution_count": 1,
     "metadata": {},
     "output_type": "execute_result"
    }
   ],
   "source": [
    "import pandas as pd\n",
    "assets_df = pd.read_csv('assets/NISPUF17.csv')\n",
    "\n",
    "def proportion_of_education():\n",
    "    \n",
    "    ed_levels = assets_df['EDUC1'].unique()\n",
    "    #print(ed_levels)\n",
    "    #assume: 1 - less than HS, 2 - HS, 3 - more than HS not college, 4 - college\n",
    "    \n",
    "    #create boolean masks\n",
    "    level_one = assets_df['EDUC1'] == 1\n",
    "    level_two = assets_df['EDUC1'] == 2\n",
    "    level_three = assets_df['EDUC1'] == 3\n",
    "    level_four = assets_df['EDUC1'] == 4\n",
    "    \n",
    "    #number of rows\n",
    "    denom = assets_df['EDUC1'].size\n",
    "    \n",
    "    ratio_one = assets_df['EDUC1'][level_one].size / denom\n",
    "    ratio_two = assets_df['EDUC1'][level_two].size / denom\n",
    "    ratio_three = assets_df['EDUC1'][level_three].size / denom\n",
    "    ratio_four = assets_df['EDUC1'][level_four].size / denom\n",
    "    \n",
    "    #check\n",
    "    #print(ratio_one + ratio_two + ratio_three + ratio_four)\n",
    "    \n",
    "    prop_dict = {\"less than high school\":ratio_one, \"high school\":ratio_two,\n",
    "                 \"more than high school but not college\":ratio_three, \"college\":ratio_four}\n",
    "    \n",
    "    return(prop_dict)\n",
    "    \n",
    "proportion_of_education()"
   ]
  },
  {
   "cell_type": "code",
   "execution_count": 2,
   "metadata": {
    "deletable": false,
    "editable": false,
    "hideCode": false,
    "hidePrompt": false,
    "nbgrader": {
     "checksum": "ac5d91a24a7f72f66c25d242c3d24a50",
     "grade": true,
     "grade_id": "cell-c0eeef201366f51c",
     "locked": true,
     "points": 1,
     "schema_version": 1,
     "solution": false
    }
   },
   "outputs": [],
   "source": [
    "assert type(proportion_of_education())==type({}), \"You must return a dictionary.\"\n",
    "assert len(proportion_of_education()) == 4, \"You have not returned a dictionary with four items in it.\"\n",
    "assert \"less than high school\" in proportion_of_education().keys(), \"You have not returned a dictionary with the correct keys.\"\n",
    "assert \"high school\" in proportion_of_education().keys(), \"You have not returned a dictionary with the correct keys.\"\n",
    "assert \"more than high school but not college\" in proportion_of_education().keys(), \"You have not returned a dictionary with the correct keys.\"\n",
    "assert \"college\" in proportion_of_education().keys(), \"You have not returned a dictionary with the correct keys.\"\n"
   ]
  },
  {
   "cell_type": "markdown",
   "metadata": {
    "deletable": false,
    "editable": false,
    "nbgrader": {
     "checksum": "562b78b7b9b79580269be0a3bebf4b42",
     "grade": false,
     "grade_id": "cell-8fcbb64516283f52",
     "locked": true,
     "schema_version": 1,
     "solution": false
    }
   },
   "source": [
    "## Question 2\n",
    "\n",
    "Let's explore the relationship between being fed breastmilk as a child and getting a seasonal influenza vaccine from a healthcare provider. Return a tuple of the average number of influenza vaccines for those children we know received breastmilk as a child and those who know did not.\n",
    "\n",
    "*This function should return a tuple in the form (use the correct numbers:*\n",
    "```\n",
    "(2.5, 0.1)\n",
    "```"
   ]
  },
  {
   "cell_type": "code",
   "execution_count": 3,
   "metadata": {
    "deletable": false,
    "nbgrader": {
     "checksum": "a405d639063c4a6408365479f29c95c9",
     "grade": false,
     "grade_id": "cell-77f18c512324eabb",
     "locked": false,
     "schema_version": 1,
     "solution": true
    }
   },
   "outputs": [
    {
     "data": {
      "text/plain": [
       "(1.8799187420058687, 1.5963945918878317)"
      ]
     },
     "execution_count": 3,
     "metadata": {},
     "output_type": "execute_result"
    }
   ],
   "source": [
    "def average_influenza_doses():\n",
    "    \n",
    "    #print(assets_df['CBF_01'].unique())\n",
    "    #assume: 1 = yes, 2 = no, 99 = don't know, 99 = missing\n",
    "    \n",
    "    #create boolean masks for desired flu data\n",
    "    unknown_flu = assets_df['P_NUMFLU'].isnull()\n",
    "    known_flu = unknown_flu != True\n",
    "    \n",
    "    #create combined masks for desired flu and breat feeding data\n",
    "    milk_mask = (assets_df['CBF_01'] == 1) & (known_flu)\n",
    "    no_milk_mask = (assets_df['CBF_01'] == 2) & (known_flu)\n",
    "    \n",
    "    #sum flu data from each case (milk and no milk) and divide by respective number of valid entries\n",
    "    milk_data = assets_df['P_NUMFLU'][milk_mask]\n",
    "    no_milk_data = assets_df['P_NUMFLU'][no_milk_mask]\n",
    "    \n",
    "    avg_flu_milk = milk_data.sum() / milk_data.size\n",
    "    avg_flu_no_milk = no_milk_data.sum() / no_milk_data.size\n",
    "    \n",
    "    return (avg_flu_milk, avg_flu_no_milk)\n",
    "    \n",
    "average_influenza_doses()"
   ]
  },
  {
   "cell_type": "code",
   "execution_count": 4,
   "metadata": {
    "deletable": false,
    "editable": false,
    "nbgrader": {
     "checksum": "19be955e97fdf7162d43fbb7c2c40951",
     "grade": true,
     "grade_id": "cell-54a3ba6cff31caa7",
     "locked": true,
     "points": 1,
     "schema_version": 1,
     "solution": false
    }
   },
   "outputs": [],
   "source": [
    "assert len(average_influenza_doses())==2, \"Return two values in a tuple, the first for yes and the second for no.\"\n"
   ]
  },
  {
   "cell_type": "markdown",
   "metadata": {
    "deletable": false,
    "editable": false,
    "nbgrader": {
     "checksum": "e10e2163f5957a0c398ef4f0b76b4efe",
     "grade": false,
     "grade_id": "cell-f63377f3c97aa7c4",
     "locked": true,
     "schema_version": 1,
     "solution": false
    }
   },
   "source": [
    "## Question 3\n",
    "It would be interesting to see if there is any evidence of a link between vaccine effectiveness and sex of the child. Calculate the ratio of the number of children who contracted chickenpox but were vaccinated against it (at least one varicella dose) versus those who were vaccinated but did not contract chicken pox. Return results by sex. \n",
    "\n",
    "*This function should return a dictionary in the form of (use the correct numbers):* \n",
    "```\n",
    "    {\"male\":0.2,\n",
    "    \"female\":0.4}\n",
    "```\n",
    "\n",
    "Note: To aid in verification, the `chickenpox_by_sex()['female']` value the autograder is looking for starts with the digits `0.0077`."
   ]
  },
  {
   "cell_type": "code",
   "execution_count": 5,
   "metadata": {
    "deletable": false,
    "nbgrader": {
     "checksum": "b4d1b58acae002bc73eb0b19f95bc4af",
     "grade": false,
     "grade_id": "cell-a0a9e6fe67698006",
     "locked": false,
     "schema_version": 1,
     "solution": true
    }
   },
   "outputs": [
    {
     "data": {
      "text/plain": [
       "{'male': 0.009675583380762664, 'female': 0.0077918259335489565}"
      ]
     },
     "execution_count": 5,
     "metadata": {},
     "output_type": "execute_result"
    }
   ],
   "source": [
    "def chickenpox_by_sex():\n",
    "    \n",
    "    male_mask = assets_df['SEX'] == 1\n",
    "    female_mask = assets_df['SEX'] == 2\n",
    "    \n",
    "    contracted_mask = assets_df['HAD_CPOX'] == 1\n",
    "    notcontracted_mask = assets_df['HAD_CPOX'] == 2\n",
    "    \n",
    "    #combined masks for each case\n",
    "    pox_m = male_mask & contracted_mask\n",
    "    nopox_m = male_mask & notcontracted_mask\n",
    "    pox_f = female_mask & contracted_mask\n",
    "    nopox_f = female_mask & notcontracted_mask\n",
    "    \n",
    "    #get data for those who are vaccinated\n",
    "    pox_m_vax = assets_df['P_NUMVRC'].dropna()[(pox_m) & (assets_df['P_NUMVRC'] > 0)]\n",
    "    nopox_m_vax = assets_df['P_NUMVRC'].dropna()[(nopox_m) & (assets_df['P_NUMVRC'] > 0)]\n",
    "    \n",
    "    pox_f_vax = assets_df['P_NUMVRC'].dropna()[(pox_f) & (assets_df['P_NUMVRC'] > 0)]\n",
    "    nopox_f_vax = assets_df['P_NUMVRC'].dropna()[(nopox_f) & (assets_df['P_NUMVRC'] > 0)]\n",
    "    \n",
    "    #print(pox_m_vax.size)\n",
    "    #print(nopox_m_vax.size)\n",
    "    #print(pox_f_vax.size)\n",
    "    #print(nopox_f_vax.size)\n",
    "    \n",
    "    m_ratio = pox_m_vax.size / nopox_m_vax.size\n",
    "    f_ratio = pox_f_vax.size / nopox_f_vax.size\n",
    "    \n",
    "    chicken_dict = {\"male\":m_ratio,\"female\":f_ratio}    \n",
    "    return chicken_dict\n",
    "    \n",
    "chickenpox_by_sex()    "
   ]
  },
  {
   "cell_type": "code",
   "execution_count": 6,
   "metadata": {
    "deletable": false,
    "editable": false,
    "nbgrader": {
     "checksum": "1b6a113a633c55699ae478a3a9ee9c33",
     "grade": true,
     "grade_id": "cell-c4f1714db100c865",
     "locked": true,
     "points": 1,
     "schema_version": 1,
     "solution": false
    }
   },
   "outputs": [],
   "source": [
    "assert len(chickenpox_by_sex())==2, \"Return a dictionary with two items, the first for males and the second for females.\"\n"
   ]
  },
  {
   "cell_type": "markdown",
   "metadata": {},
   "source": [
    "## Question 4\n",
    "A correlation is a statistical relationship between two variables. If we wanted to know if vaccines work, we might look at the correlation between the use of the vaccine and whether it results in prevention of the infection or disease [1]. In this question, you are to see if there is a correlation between having had the chicken pox and the number of chickenpox vaccine doses given (varicella).\n",
    "\n",
    "Some notes on interpreting the answer. The `had_chickenpox_column` is either `1` (for yes) or `2` (for no), and the `num_chickenpox_vaccine_column` is the number of doses a child has been given of the varicella vaccine. A positive correlation (e.g., `corr > 0`) means that an increase in `had_chickenpox_column` (which means more no’s) would also increase the values of `num_chickenpox_vaccine_column` (which means more doses of vaccine). If there is a negative correlation (e.g., `corr < 0`), it indicates that having had chickenpox is related to an increase in the number of vaccine doses.\n",
    "\n",
    "Also, `pval` is the probability that we observe a correlation between `had_chickenpox_column` and `num_chickenpox_vaccine_column` which is greater than or equal to a particular value occurred by chance. A small `pval` means that the observed correlation is highly unlikely to occur by chance. In this case, `pval` should be very small (will end in `e-18` indicating a very small number).\n",
    "\n",
    "[1] This isn’t really the full picture, since we are not looking at when the dose was given. It’s possible that children had chickenpox and then their parents went to get them the vaccine. Does this dataset have the data we would need to investigate the timing of the dose?"
   ]
  },
  {
   "cell_type": "code",
   "execution_count": 7,
   "metadata": {
    "deletable": false,
    "nbgrader": {
     "checksum": "3e645859949447913cd11d30eb33cb1e",
     "grade": false,
     "grade_id": "cell-8afff07f564cf79a",
     "locked": false,
     "schema_version": 1,
     "solution": true
    }
   },
   "outputs": [
    {
     "data": {
      "text/plain": [
       "0.07044873460147996"
      ]
     },
     "execution_count": 7,
     "metadata": {},
     "output_type": "execute_result"
    }
   ],
   "source": [
    "def corr_chickenpox():\n",
    "    import scipy.stats as stats\n",
    "    import numpy as np\n",
    "    import pandas as pd\n",
    "    \n",
    "    # this is just an example dataframe\n",
    "    #df=pd.DataFrame({\"had_chickenpox_column\":np.random.randint(1,3,size=(100)),\n",
    "    #               \"num_chickenpox_vaccine_column\":np.random.randint(0,6,size=(100))})\n",
    "\n",
    "    # here is some stub code to actually run the correlation\n",
    "    #corr, pval=stats.pearsonr(df[\"had_chickenpox_column\"],df[\"num_chickenpox_vaccine_column\"])\n",
    "    \n",
    "    # just return the correlation\n",
    "\n",
    "    # run the same code as example but with data from assets file\n",
    "    #first remove unwanted entries    \n",
    "    num_chickenpox_vaccine = assets_df['P_NUMVRC'] <= 3\n",
    "    had_chickenpox = assets_df['HAD_CPOX'] <= 2\n",
    "    \n",
    "    data = assets_df[(num_chickenpox_vaccine) & (had_chickenpox)]\n",
    "    \n",
    "    corr, pval=stats.pearsonr(data['HAD_CPOX'],data['P_NUMVRC'])\n",
    "    \n",
    "    #print(data)\n",
    "    return corr\n",
    "corr_chickenpox()"
   ]
  },
  {
   "cell_type": "code",
   "execution_count": 8,
   "metadata": {
    "deletable": false,
    "editable": false,
    "nbgrader": {
     "checksum": "ac50ccb747b99f6bbcc76da017e66528",
     "grade": true,
     "grade_id": "cell-73408733533a29a5",
     "locked": true,
     "points": 1,
     "schema_version": 1,
     "solution": false
    }
   },
   "outputs": [],
   "source": [
    "assert -1<=corr_chickenpox()<=1, \"You must return a float number between -1.0 and 1.0.\"\n"
   ]
  }
 ],
 "metadata": {
  "anaconda-cloud": {},
  "coursera": {
   "schema_names": [
    "mooc_adswpy_1_v2_assignment2"
   ]
  },
  "hide_code_all_hidden": false,
  "kernelspec": {
   "display_name": "Python 3 (ipykernel)",
   "language": "python",
   "name": "python3"
  },
  "language_info": {
   "codemirror_mode": {
    "name": "ipython",
    "version": 3
   },
   "file_extension": ".py",
   "mimetype": "text/x-python",
   "name": "python",
   "nbconvert_exporter": "python",
   "pygments_lexer": "ipython3",
   "version": "3.9.12"
  }
 },
 "nbformat": 4,
 "nbformat_minor": 1
}
