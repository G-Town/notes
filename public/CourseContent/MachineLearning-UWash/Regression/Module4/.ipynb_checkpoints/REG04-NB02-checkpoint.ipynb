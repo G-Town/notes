{
 "cells": [
  {
   "cell_type": "markdown",
   "metadata": {},
   "source": [
    "# Regression Week 4: Ridge Regression (gradient descent)"
   ]
  },
  {
   "cell_type": "markdown",
   "metadata": {},
   "source": [
    "In this notebook, you will implement ridge regression via gradient descent. You will:\n",
    "* Convert an SFrame into a Numpy array\n",
    "* Write a Numpy function to compute the derivative of the regression weights with respect to a single feature\n",
    "* Write gradient descent function to compute the regression weights given an initial weight vector, step size, tolerance, and L2 penalty"
   ]
  },
  {
   "cell_type": "markdown",
   "metadata": {},
   "source": [
    "# Fire up Turi Create"
   ]
  },
  {
   "cell_type": "markdown",
   "metadata": {},
   "source": [
    "Make sure you have the latest version of Turi Create"
   ]
  },
  {
   "cell_type": "code",
   "execution_count": 190,
   "metadata": {},
   "outputs": [],
   "source": [
    "import turicreate"
   ]
  },
  {
   "cell_type": "markdown",
   "metadata": {},
   "source": [
    "# Load in house sales data\n",
    "\n",
    "Dataset is from house sales in King County, the region where the city of Seattle, WA is located."
   ]
  },
  {
   "cell_type": "code",
   "execution_count": 191,
   "metadata": {},
   "outputs": [],
   "source": [
    "sales = turicreate.SFrame('../home_data.sframe/')"
   ]
  },
  {
   "cell_type": "markdown",
   "metadata": {},
   "source": [
    "If we want to do any \"feature engineering\" like creating new features or adjusting existing ones we should do this directly using the SFrames as seen in the first notebook of Week 2. For this notebook, however, we will work with the existing features."
   ]
  },
  {
   "cell_type": "markdown",
   "metadata": {},
   "source": [
    "# Import useful functions from previous notebook"
   ]
  },
  {
   "cell_type": "markdown",
   "metadata": {},
   "source": [
    "As in Week 2, we convert the SFrame into a 2D Numpy array. Copy and paste `get_numpy_data()` from the second notebook of Week 2."
   ]
  },
  {
   "cell_type": "code",
   "execution_count": 192,
   "metadata": {},
   "outputs": [],
   "source": [
    "import numpy as np # note this allows us to refer to numpy as np instead "
   ]
  },
  {
   "cell_type": "code",
   "execution_count": 193,
   "metadata": {},
   "outputs": [],
   "source": [
    "def get_numpy_data(data_sframe, features, target):\n",
    "    \n",
    "    data_sframe['constant'] = 1 # this is how you add a constant column to an SFrame\n",
    "    # add the column 'constant' to the front of the features list so that we can extract it along with the others:\n",
    "    features = ['constant'] + features\n",
    "    # select the columns of data_SFrame given by the features list into the SFrame features_sframe (now including constant):\n",
    "    features_sframe = data_sframe[features]\n",
    "    # the following line will convert the features_SFrame into a numpy matrix:\n",
    "    feature_matrix = features_sframe.to_numpy()\n",
    "    # assign the column of data_sframe associated with the target to the SArray output_sarray\n",
    "    output_sarray = data_sframe[target]\n",
    "    # the following will convert the SArray into a numpy array by first converting it to a list\n",
    "    output_array = output_sarray.to_numpy()\n",
    "\n",
    "    return(feature_matrix, output_array)"
   ]
  },
  {
   "cell_type": "markdown",
   "metadata": {},
   "source": [
    "Also, copy and paste the `predict_output()` function to compute the predictions for an entire matrix of features given the matrix and the weights:"
   ]
  },
  {
   "cell_type": "code",
   "execution_count": 194,
   "metadata": {},
   "outputs": [],
   "source": [
    "def predict_output(feature_matrix, weights):\n",
    "    # assume feature_matrix is a numpy matrix containing the features as columns and weights is a corresponding numpy array\n",
    "    # create the predictions vector by using np.dot()\n",
    "    predictions = np.dot(feature_matrix, weights)\n",
    "    \n",
    "    return(predictions)"
   ]
  },
  {
   "cell_type": "markdown",
   "metadata": {},
   "source": [
    "# Computing the Derivative"
   ]
  },
  {
   "cell_type": "markdown",
   "metadata": {},
   "source": [
    "We are now going to move to computing the derivative of the regression cost function. Recall that the cost function is the sum over the data points of the squared difference between an observed output and a predicted output, plus the L2 penalty term.\n",
    "```\n",
    "Cost(w)\n",
    "= SUM[ (prediction - output)^2 ]\n",
    "+ l2_penalty*(w[0]^2 + w[1]^2 + ... + w[k]^2).\n",
    "```\n",
    "\n",
    "Since the derivative of a sum is the sum of the derivatives, we can take the derivative of the first part (the RSS) as we did in the notebook for the unregularized case in Week 2 and add the derivative of the regularization part.  As we saw, the derivative of the RSS with respect to `w[i]` can be written as: \n",
    "```\n",
    "2*SUM[ error*[feature_i] ].\n",
    "```\n",
    "The derivative of the regularization term with respect to `w[i]` is:\n",
    "```\n",
    "2*l2_penalty*w[i].\n",
    "```\n",
    "Summing both, we get\n",
    "```\n",
    "2*SUM[ error*[feature_i] ] + 2*l2_penalty*w[i].\n",
    "```\n",
    "That is, the derivative for the weight for feature i is the sum (over data points) of 2 times the product of the error and the feature itself, plus `2*l2_penalty*w[i]`. \n",
    "\n",
    "**We will not regularize the constant.**  Thus, in the case of the constant, the derivative is just twice the sum of the errors (without the `2*l2_penalty*w[0]` term).\n",
    "\n",
    "Recall that twice the sum of the product of two vectors is just twice the dot product of the two vectors. Therefore the derivative for the weight for feature_i is just two times the dot product between the values of feature_i and the current errors, plus `2*l2_penalty*w[i]`.\n",
    "\n",
    "With this in mind complete the following derivative function which computes the derivative of the weight given the value of the feature (over all data points) and the errors (over all data points).  To decide when to we are dealing with the constant (so we don't regularize it) we added the extra parameter to the call `feature_is_constant` which you should set to `True` when computing the derivative of the constant and `False` otherwise."
   ]
  },
  {
   "cell_type": "code",
   "execution_count": 195,
   "metadata": {},
   "outputs": [],
   "source": [
    "def feature_derivative_ridge(errors, feature, weight, l2_penalty, feature_is_constant):\n",
    "    # If feature_is_constant is True, derivative is twice the dot product of errors and feature\n",
    "    if feature_is_constant:\n",
    "        derivative = 2*np.dot(errors, feature)\n",
    "    # Otherwise, derivative is twice the dot product plus 2*l2_penalty*weight\n",
    "    else:\n",
    "        derivative = 2*np.dot(errors, feature) + 2*l2_penalty*weight\n",
    "    return derivative"
   ]
  },
  {
   "cell_type": "markdown",
   "metadata": {},
   "source": [
    "To test your feature derivartive run the following:"
   ]
  },
  {
   "cell_type": "code",
   "execution_count": 196,
   "metadata": {},
   "outputs": [
    {
     "name": "stdout",
     "output_type": "stream",
     "text": [
      "-56554166782350.0\n",
      "-56554166782350.0\n",
      "\n",
      "-22446749336.0\n",
      "-22446749336.0\n"
     ]
    }
   ],
   "source": [
    "(example_features, example_output) = get_numpy_data(sales, ['sqft_living'], 'price') \n",
    "example_weights = np.array([1., 10.])\n",
    "example_predictions = predict_output(example_features, example_weights) \n",
    "example_errors = example_predictions - example_output # prediction errors\n",
    "\n",
    "# next two lines should print the same values\n",
    "print(feature_derivative_ridge(example_errors, example_features[:,1], example_weights[1], 1, False))\n",
    "print(np.sum(example_errors*example_features[:,1])*2+20.)\n",
    "print('')\n",
    "\n",
    "# next two lines should print the same values\n",
    "print(feature_derivative_ridge(example_errors, example_features[:,0], example_weights[0], 1, True))\n",
    "print(np.sum(example_errors)*2.)"
   ]
  },
  {
   "cell_type": "markdown",
   "metadata": {},
   "source": [
    "# Gradient Descent"
   ]
  },
  {
   "cell_type": "markdown",
   "metadata": {},
   "source": [
    "Now we will write a function that performs a gradient descent. The basic premise is simple. Given a starting point we update the current weights by moving in the negative gradient direction. Recall that the gradient is the direction of *increase* and therefore the negative gradient is the direction of *decrease* and we're trying to *minimize* a cost function. \n",
    "\n",
    "The amount by which we move in the negative gradient *direction*  is called the 'step size'. We stop when we are 'sufficiently close' to the optimum. Unlike in Week 2, this time we will set a **maximum number of iterations** and take gradient steps until we reach this maximum number. If no maximum number is supplied, the maximum should be set 100 by default. (Use default parameter values in Python.)\n",
    "\n",
    "With this in mind, complete the following gradient descent function below using your derivative function above. For each step in the gradient descent, we update the weight for each feature before computing our stopping criteria."
   ]
  },
  {
   "cell_type": "code",
   "execution_count": 197,
   "metadata": {},
   "outputs": [],
   "source": [
    "def ridge_regression_gradient_descent(feature_matrix, output, initial_weights, step_size, l2_penalty, max_iterations=100):\n",
    "    print('Starting gradient descent with l2_penalty = ' + str(l2_penalty))\n",
    "    \n",
    "    weights = np.array(initial_weights) # make sure it's a numpy array\n",
    "    iteration = 0 # iteration counter\n",
    "    print_frequency = 1  # for adjusting frequency of debugging output\n",
    "    \n",
    "    #while not reached maximum number of iterations:\n",
    "    while iteration <= max_iterations:\n",
    "        \n",
    "        ### === code section for adjusting frequency of debugging output. ===\n",
    "        if iteration == 10:\n",
    "            print_frequency = 10\n",
    "        if iteration == 100:\n",
    "            print_frequency = 100\n",
    "        if iteration%print_frequency==0:\n",
    "            print('Iteration = ' + str(iteration))\n",
    "        ### === end code section ===\n",
    "        \n",
    "        # compute the predictions based on feature_matrix and weights using your predict_output() function\n",
    "        predictions = predict_output(feature_matrix, weights)\n",
    "        # compute the errors as predictions - output\n",
    "        errors = predictions - output\n",
    "        # from time to time, print the value of the cost function\n",
    "        if iteration%print_frequency==0:\n",
    "            print('Cost function = ', str(np.dot(errors,errors) + l2_penalty*(np.dot(weights,weights) - weights[0]**2)))\n",
    "        \n",
    "        for i in range(len(weights)): # loop over each weight\n",
    "            # Recall that feature_matrix[:,i] is the feature column associated with weights[i]\n",
    "            # compute the derivative for weight[i].\n",
    "            #(Remember: when i=0, you are computing the derivative of the constant!)\n",
    "            if i == 0:\n",
    "                feature_is_constant = True\n",
    "            else:\n",
    "                feature_is_constant = False\n",
    "            derivative = feature_derivative_ridge(errors, feature_matrix[:,i], weights[i], l2_penalty, feature_is_constant) \n",
    "            # subtract the step size times the derivative from the current weight\n",
    "            weights[i] = weights[i] - step_size*derivative\n",
    "\n",
    "        iteration += 1  # increment iteration counter\n",
    "\n",
    "    print('Done with gradient descent at iteration ', iteration)\n",
    "    print('Learned weights:', [float(\"%.02f\" % w)  for w in weights])\n",
    "    #print( [float(\"%.02f\" % w)  for w in weights] )\n",
    "    return(weights)"
   ]
  },
  {
   "cell_type": "markdown",
   "metadata": {},
   "source": [
    "# Visualizing effect of L2 penalty"
   ]
  },
  {
   "cell_type": "markdown",
   "metadata": {},
   "source": [
    "The L2 penalty gets its name because it causes weights to have small L2 norms than otherwise. Let's see how large weights get penalized. Let us consider a simple model with 1 feature:"
   ]
  },
  {
   "cell_type": "code",
   "execution_count": 198,
   "metadata": {},
   "outputs": [],
   "source": [
    "simple_features = ['sqft_living']\n",
    "target = 'price'"
   ]
  },
  {
   "cell_type": "markdown",
   "metadata": {},
   "source": [
    "Let us split the dataset into training set and test set. Make sure to use `seed=0`:"
   ]
  },
  {
   "cell_type": "code",
   "execution_count": 199,
   "metadata": {},
   "outputs": [],
   "source": [
    "train_data, test_data = sales.random_split(.8,seed=0)"
   ]
  },
  {
   "cell_type": "markdown",
   "metadata": {},
   "source": [
    "In this part, we will only use `'sqft_living'` to predict `'price'`. Use the `get_numpy_data` function to get a Numpy versions of your data with only this feature, for both the `train_data` and the `test_data`. "
   ]
  },
  {
   "cell_type": "code",
   "execution_count": 200,
   "metadata": {},
   "outputs": [],
   "source": [
    "(simple_train_feature_matrix, simple_train_output) = get_numpy_data(train_data, simple_features, target)\n",
    "\n",
    "(simple_test_feature_matrix, simple_test_output) = get_numpy_data(test_data, simple_features, target)"
   ]
  },
  {
   "cell_type": "markdown",
   "metadata": {},
   "source": [
    "Let's set the parameters for our optimization:"
   ]
  },
  {
   "cell_type": "code",
   "execution_count": 202,
   "metadata": {},
   "outputs": [],
   "source": [
    "initial_weights_simple = np.array([0., 0.])\n",
    "step_size = 1e-12\n",
    "max_iterations=1000"
   ]
  },
  {
   "cell_type": "code",
   "execution_count": 203,
   "metadata": {},
   "outputs": [],
   "source": [
    "#simple_feature_matrix"
   ]
  },
  {
   "cell_type": "markdown",
   "metadata": {},
   "source": [
    "First, let's consider no regularization.  Set the `l2_penalty` to `0.0` and run your ridge regression algorithm to learn the weights of your model.  Call your weights:\n",
    "\n",
    "`simple_weights_0_penalty`\n",
    "\n",
    "we'll use them later."
   ]
  },
  {
   "cell_type": "code",
   "execution_count": 204,
   "metadata": {},
   "outputs": [
    {
     "name": "stdout",
     "output_type": "stream",
     "text": [
      "Starting gradient descent with l2_penalty = 0.0\n",
      "Iteration = 0\n",
      "Cost function =  7433051851026171.0\n",
      "Iteration = 1\n",
      "Cost function =  5394267213135526.0\n",
      "Iteration = 2\n",
      "Cost function =  4023237736501158.5\n",
      "Iteration = 3\n",
      "Cost function =  3101256183922415.0\n",
      "Iteration = 4\n",
      "Cost function =  2481247644505114.5\n",
      "Iteration = 5\n",
      "Cost function =  2064308077891942.2\n",
      "Iteration = 6\n",
      "Cost function =  1783927097372279.8\n",
      "Iteration = 7\n",
      "Cost function =  1595378203154872.0\n",
      "Iteration = 8\n",
      "Cost function =  1468583991054997.2\n",
      "Iteration = 9\n",
      "Cost function =  1383318191484982.0\n",
      "Iteration = 10\n",
      "Cost function =  1325979165855245.8\n",
      "Iteration = 20\n",
      "Cost function =  1210477702484409.5\n",
      "Iteration = 30\n",
      "Cost function =  1208293252916462.2\n",
      "Iteration = 40\n",
      "Cost function =  1208251938286222.8\n",
      "Iteration = 50\n",
      "Cost function =  1208251156204513.0\n",
      "Iteration = 60\n",
      "Cost function =  1208251140704254.5\n",
      "Iteration = 70\n",
      "Cost function =  1208251139702150.0\n",
      "Iteration = 80\n",
      "Cost function =  1208251138974245.5\n",
      "Iteration = 90\n",
      "Cost function =  1208251138251526.5\n",
      "Iteration = 100\n",
      "Cost function =  1208251137528905.8\n",
      "Iteration = 200\n",
      "Cost function =  1208251130302723.0\n",
      "Iteration = 300\n",
      "Cost function =  1208251123076548.0\n",
      "Iteration = 400\n",
      "Cost function =  1208251115850382.0\n",
      "Iteration = 500\n",
      "Cost function =  1208251108624223.8\n",
      "Iteration = 600\n",
      "Cost function =  1208251101398073.5\n",
      "Iteration = 700\n",
      "Cost function =  1208251094171931.8\n",
      "Iteration = 800\n",
      "Cost function =  1208251086945798.5\n",
      "Iteration = 900\n",
      "Cost function =  1208251079719673.5\n",
      "Iteration = 1000\n",
      "Cost function =  1208251072493556.5\n",
      "Done with gradient descent at iteration  1001\n",
      "Learned weights: [-0.16, 263.02]\n"
     ]
    }
   ],
   "source": [
    "l2_zero_penalty = 0.0\n",
    "simple_weights_0_penalty = ridge_regression_gradient_descent(simple_train_feature_matrix, simple_train_output,\n",
    "                                                             initial_weights_simple, step_size,\n",
    "                                                             l2_zero_penalty, max_iterations)"
   ]
  },
  {
   "cell_type": "markdown",
   "metadata": {},
   "source": [
    "Next, let's consider high regularization.  Set the `l2_penalty` to `1e11` and run your ridge regression algorithm to learn the weights of your model.  Call your weights:\n",
    "\n",
    "`simple_weights_high_penalty`\n",
    "\n",
    "we'll use them later."
   ]
  },
  {
   "cell_type": "code",
   "execution_count": 205,
   "metadata": {},
   "outputs": [
    {
     "name": "stdout",
     "output_type": "stream",
     "text": [
      "Starting gradient descent with l2_penalty = 100000000000.0\n",
      "Iteration = 0\n",
      "Cost function =  7433051851026171.0\n",
      "Iteration = 1\n",
      "Cost function =  5618303898412631.0\n",
      "Iteration = 2\n",
      "Cost function =  4920613278115384.0\n",
      "Iteration = 3\n",
      "Cost function =  4652381942612294.0\n",
      "Iteration = 4\n",
      "Cost function =  4549258764014157.0\n",
      "Iteration = 5\n",
      "Cost function =  4509612390882265.0\n",
      "Iteration = 6\n",
      "Cost function =  4494370050281118.0\n",
      "Iteration = 7\n",
      "Cost function =  4488509984030221.5\n",
      "Iteration = 8\n",
      "Cost function =  4486256988531770.5\n",
      "Iteration = 9\n",
      "Cost function =  4485390752674687.5\n",
      "Iteration = 10\n",
      "Cost function =  4485057664747022.5\n",
      "Iteration = 20\n",
      "Cost function =  4484848749603832.5\n",
      "Iteration = 30\n",
      "Cost function =  4484847785537884.0\n",
      "Iteration = 40\n",
      "Cost function =  4484846836142212.0\n",
      "Iteration = 50\n",
      "Cost function =  4484845886747973.0\n",
      "Iteration = 60\n",
      "Cost function =  4484844937354134.0\n",
      "Iteration = 70\n",
      "Cost function =  4484843987960693.0\n",
      "Iteration = 80\n",
      "Cost function =  4484843038567651.5\n",
      "Iteration = 90\n",
      "Cost function =  4484842089175008.0\n",
      "Iteration = 100\n",
      "Cost function =  4484841139782763.5\n",
      "Iteration = 200\n",
      "Cost function =  4484831645882255.5\n",
      "Iteration = 300\n",
      "Cost function =  4484822152021627.5\n",
      "Iteration = 400\n",
      "Cost function =  4484812658200879.5\n",
      "Iteration = 500\n",
      "Cost function =  4484803164420012.5\n",
      "Iteration = 600\n",
      "Cost function =  4484793670679025.0\n",
      "Iteration = 700\n",
      "Cost function =  4484784176977918.0\n",
      "Iteration = 800\n",
      "Cost function =  4484774683316691.0\n",
      "Iteration = 900\n",
      "Cost function =  4484765189695343.0\n",
      "Iteration = 1000\n",
      "Cost function =  4484755696113874.0\n",
      "Done with gradient descent at iteration  1001\n",
      "Learned weights: [9.78, 124.57]\n"
     ]
    }
   ],
   "source": [
    "l2_high_penalty = 1e11\n",
    "simple_weights_high_penalty = ridge_regression_gradient_descent(simple_train_feature_matrix, simple_train_output,\n",
    "                                                                initial_weights_simple, step_size,\n",
    "                                                                l2_high_penalty, max_iterations)"
   ]
  },
  {
   "cell_type": "markdown",
   "metadata": {},
   "source": [
    "This code will plot the two learned models.  (The blue line is for the model with no regularization and the red line is for the one with high regularization.)"
   ]
  },
  {
   "cell_type": "code",
   "execution_count": 206,
   "metadata": {},
   "outputs": [
    {
     "data": {
      "text/plain": [
       "<matplotlib.legend.Legend at 0x7f75769040d0>"
      ]
     },
     "execution_count": 206,
     "metadata": {},
     "output_type": "execute_result"
    },
    {
     "data": {
      "image/png": "[encoded data removed]",
      "text/plain": [
       "<Figure size 432x288 with 1 Axes>"
      ]
     },
     "metadata": {
      "needs_background": "light"
     },
     "output_type": "display_data"
    }
   ],
   "source": [
    "import matplotlib.pyplot as plt\n",
    "%matplotlib inline\n",
    "plt.plot(simple_train_feature_matrix[:,1],simple_train_output,'k.',\n",
    "         simple_train_feature_matrix[:,1],predict_output(simple_train_feature_matrix, simple_weights_0_penalty),'b-',\n",
    "         simple_train_feature_matrix[:,1],predict_output(simple_train_feature_matrix, simple_weights_high_penalty),'r-')\n",
    "plt.legend(['data','no reg','reg'])"
   ]
  },
  {
   "cell_type": "markdown",
   "metadata": {},
   "source": [
    "Compute the RSS on the TEST data for the following three sets of weights:\n",
    "1. The initial weights (all zeros)\n",
    "2. The weights learned with no regularization\n",
    "3. The weights learned with high regularization\n",
    "\n",
    "Which weights perform best?"
   ]
  },
  {
   "cell_type": "code",
   "execution_count": 207,
   "metadata": {},
   "outputs": [],
   "source": [
    "def RSS_weight_regularization(feature_matrix, weight_vectors):\n",
    "    \n",
    "    # Initial weights\n",
    "    predictions = predict_output(feature_matrix, weight_vectors[0])\n",
    "    residuals = simple_test_output - predictions\n",
    "    residuals_squared = residuals * residuals\n",
    "    RSS = residuals_squared.sum()\n",
    "    print(\"Test RSS with initial weights (all zeros):\\n\\t%.4e\\n\" % (RSS))\n",
    "    \n",
    "    # No regularization\n",
    "    predictions = predict_output(feature_matrix, weight_vectors[1])\n",
    "    residuals = simple_test_output - predictions\n",
    "    residuals_squared = residuals * residuals\n",
    "    RSS = residuals_squared.sum()\n",
    "    print(\"Test RSS with no regularization:\\n\\t%.4e\\n\" % (RSS))\n",
    "    \n",
    "    # High regularization\n",
    "    predictions = predict_output(feature_matrix, weight_vectors[2])\n",
    "    residuals = simple_test_output - predictions\n",
    "    residuals_squared = residuals * residuals\n",
    "    RSS = residuals_squared.sum()\n",
    "    print(\"Test RSS with high regularization:\\n\\t%.4e\\n\" % (RSS))\n",
    "    \n",
    "    return"
   ]
  },
  {
   "cell_type": "code",
   "execution_count": 208,
   "metadata": {},
   "outputs": [
    {
     "name": "stdout",
     "output_type": "stream",
     "text": [
      "Test RSS with initial weights (all zeros):\n",
      "\t1.7843e+15\n",
      "\n",
      "Test RSS with no regularization:\n",
      "\t2.7572e+14\n",
      "\n",
      "Test RSS with high regularization:\n",
      "\t6.9464e+14\n",
      "\n"
     ]
    }
   ],
   "source": [
    "RSS_weight_regularization(simple_test_feature_matrix,\n",
    "                          [initial_weights_simple, simple_weights_0_penalty, simple_weights_high_penalty])"
   ]
  },
  {
   "cell_type": "markdown",
   "metadata": {},
   "source": [
    "***QUIZ QUESTIONS***\n",
    "1. What is the value of the coefficient for `sqft_living` that you learned with no regularization, rounded to 1 decimal place?  What about the one with high regularization?\n",
    "2. Comparing the lines you fit with the with no regularization versus high regularization, which one is steeper?\n",
    "3. What are the RSS on the test data for each of the set of weights above (initial, no regularization, high regularization)? \n"
   ]
  },
  {
   "cell_type": "markdown",
   "metadata": {},
   "source": [
    "# Running a multiple regression with L2 penalty"
   ]
  },
  {
   "cell_type": "markdown",
   "metadata": {},
   "source": [
    "Let us now consider a model with 2 features: `['sqft_living', 'sqft_living15']`."
   ]
  },
  {
   "cell_type": "markdown",
   "metadata": {},
   "source": [
    "First, create Numpy versions of your training and test data with these two features. "
   ]
  },
  {
   "cell_type": "code",
   "execution_count": 209,
   "metadata": {},
   "outputs": [],
   "source": [
    "model_features = ['sqft_living', 'sqft_living15'] # sqft_living15 is the average squarefeet for the nearest 15 neighbors. \n",
    "(train_feature_matrix, train_output) = get_numpy_data(train_data, model_features, target)\n",
    "(test_feature_matrix, test_output) = get_numpy_data(test_data, model_features, target)"
   ]
  },
  {
   "cell_type": "markdown",
   "metadata": {},
   "source": [
    "We need to re-inialize the weights, since we have one extra parameter. Let us also set the step size and maximum number of iterations."
   ]
  },
  {
   "cell_type": "code",
   "execution_count": 210,
   "metadata": {},
   "outputs": [],
   "source": [
    "initial_weights_multiple = np.array([0.0,0.0,0.0])"
   ]
  },
  {
   "cell_type": "markdown",
   "metadata": {},
   "source": [
    "First, let's consider no regularization.  Set the `l2_penalty` to `0.0` and run your ridge regression algorithm to learn the weights of your model.  Call your weights:\n",
    "\n",
    "`multiple_weights_0_penalty`"
   ]
  },
  {
   "cell_type": "code",
   "execution_count": 211,
   "metadata": {},
   "outputs": [
    {
     "name": "stdout",
     "output_type": "stream",
     "text": [
      "Starting gradient descent with l2_penalty = 0.0\n",
      "Iteration = 0\n",
      "Cost function =  7433051851026171.0\n",
      "Iteration = 1\n",
      "Cost function =  4056752331500973.0\n",
      "Iteration = 2\n",
      "Cost function =  2529565114333592.5\n",
      "Iteration = 3\n",
      "Cost function =  1838556694275926.5\n",
      "Iteration = 4\n",
      "Cost function =  1525675575208603.5\n",
      "Iteration = 5\n",
      "Cost function =  1383789498674793.8\n",
      "Iteration = 6\n",
      "Cost function =  1319232606276634.5\n",
      "Iteration = 7\n",
      "Cost function =  1289648872028921.0\n",
      "Iteration = 8\n",
      "Cost function =  1275884724079266.8\n",
      "Iteration = 9\n",
      "Cost function =  1269278807577156.5\n",
      "Iteration = 10\n",
      "Cost function =  1265914378958661.0\n",
      "Iteration = 20\n",
      "Cost function =  1257193975474293.0\n",
      "Iteration = 30\n",
      "Cost function =  1251406379775540.0\n",
      "Iteration = 40\n",
      "Cost function =  1246268727321417.5\n",
      "Iteration = 50\n",
      "Cost function =  1241707409770816.8\n",
      "Iteration = 60\n",
      "Cost function =  1237657774414635.2\n",
      "Iteration = 70\n",
      "Cost function =  1234062421445731.2\n",
      "Iteration = 80\n",
      "Cost function =  1230870390088722.5\n",
      "Iteration = 90\n",
      "Cost function =  1228036436278141.8\n",
      "Iteration = 100\n",
      "Cost function =  1225520391365755.5\n",
      "Iteration = 200\n",
      "Cost function =  1211666359742571.2\n",
      "Iteration = 300\n",
      "Cost function =  1207451014857174.8\n",
      "Iteration = 400\n",
      "Cost function =  1206168411670227.0\n",
      "Iteration = 500\n",
      "Cost function =  1205778147253472.2\n",
      "Iteration = 600\n",
      "Cost function =  1205659392762471.8\n",
      "Iteration = 700\n",
      "Cost function =  1205623249990529.8\n",
      "Iteration = 800\n",
      "Cost function =  1205612243301948.0\n",
      "Iteration = 900\n",
      "Cost function =  1205608884713350.0\n",
      "Iteration = 1000\n",
      "Cost function =  1205607853195068.8\n",
      "Done with gradient descent at iteration  1001\n",
      "Learned weights: [-0.36, 243.06, 22.41]\n"
     ]
    }
   ],
   "source": [
    "multiple_weights_0_penalty = ridge_regression_gradient_descent(train_feature_matrix, train_output,\n",
    "                                                               initial_weights_multiple, step_size, \n",
    "                                                               l2_zero_penalty, max_iterations)\n",
    "#print(multiple_weights_0_penalty)"
   ]
  },
  {
   "cell_type": "markdown",
   "metadata": {},
   "source": [
    "Next, let's consider high regularization.  Set the `l2_penalty` to `1e11` and run your ridge regression algorithm to learn the weights of your model.  Call your weights:\n",
    "\n",
    "`multiple_weights_high_penalty`"
   ]
  },
  {
   "cell_type": "code",
   "execution_count": 212,
   "metadata": {},
   "outputs": [
    {
     "name": "stdout",
     "output_type": "stream",
     "text": [
      "Starting gradient descent with l2_penalty = 100000000000.0\n",
      "Iteration = 0\n",
      "Cost function =  7433051851026171.0\n",
      "Iteration = 1\n",
      "Cost function =  4460489790285892.0\n",
      "Iteration = 2\n",
      "Cost function =  3796674468844608.5\n",
      "Iteration = 3\n",
      "Cost function =  3648319530437361.5\n",
      "Iteration = 4\n",
      "Cost function =  3615091103216102.0\n",
      "Iteration = 5\n",
      "Cost function =  3607602742514732.0\n",
      "Iteration = 6\n",
      "Cost function =  3605886322161655.5\n",
      "Iteration = 7\n",
      "Cost function =  3605474874533295.0\n",
      "Iteration = 8\n",
      "Cost function =  3605365167765577.0\n",
      "Iteration = 9\n",
      "Cost function =  3605329402184649.5\n",
      "Iteration = 10\n",
      "Cost function =  3605314295040468.0\n",
      "Iteration = 20\n",
      "Cost function =  3605294126844584.0\n",
      "Iteration = 30\n",
      "Cost function =  3605293491022563.0\n",
      "Iteration = 40\n",
      "Cost function =  3605293037577667.5\n",
      "Iteration = 50\n",
      "Cost function =  3605292585944787.0\n",
      "Iteration = 60\n",
      "Cost function =  3605292134330050.0\n",
      "Iteration = 70\n",
      "Cost function =  3605291682715634.0\n",
      "Iteration = 80\n",
      "Cost function =  3605291231101364.0\n",
      "Iteration = 90\n",
      "Cost function =  3605290779487236.0\n",
      "Iteration = 100\n",
      "Cost function =  3605290327873251.0\n",
      "Iteration = 200\n",
      "Cost function =  3605285811741251.0\n",
      "Iteration = 300\n",
      "Cost function =  3605281295623528.0\n",
      "Iteration = 400\n",
      "Cost function =  3605276779520082.0\n",
      "Iteration = 500\n",
      "Cost function =  3605272263430914.0\n",
      "Iteration = 600\n",
      "Cost function =  3605267747356021.0\n",
      "Iteration = 700\n",
      "Cost function =  3605263231295406.0\n",
      "Iteration = 800\n",
      "Cost function =  3605258715249068.0\n",
      "Iteration = 900\n",
      "Cost function =  3605254199217007.0\n",
      "Iteration = 1000\n",
      "Cost function =  3605249683199222.0\n",
      "Done with gradient descent at iteration  1001\n",
      "Learned weights: [6.75, 91.49, 78.44]\n"
     ]
    }
   ],
   "source": [
    "multiple_weights_high_penalty = ridge_regression_gradient_descent(train_feature_matrix, train_output,\n",
    "                                                                  initial_weights_multiple, step_size, \n",
    "                                                                  l2_high_penalty, max_iterations)\n",
    "#print(multiple_weights_high_penalty)"
   ]
  },
  {
   "cell_type": "markdown",
   "metadata": {},
   "source": [
    "Compute the RSS on the TEST data for the following three sets of weights:\n",
    "1. The initial weights (all zeros)\n",
    "2. The weights learned with no regularization\n",
    "3. The weights learned with high regularization\n",
    "\n",
    "Which weights perform best?"
   ]
  },
  {
   "cell_type": "code",
   "execution_count": 213,
   "metadata": {},
   "outputs": [
    {
     "name": "stdout",
     "output_type": "stream",
     "text": [
      "Test RSS with initial weights (all zeros):\n",
      "\t1.7843e+15\n",
      "\n",
      "Test RSS with no regularization:\n",
      "\t2.7407e+14\n",
      "\n",
      "Test RSS with high regularization:\n",
      "\t5.0040e+14\n",
      "\n"
     ]
    }
   ],
   "source": [
    "RSS_weight_regularization(test_feature_matrix,\n",
    "                          [initial_weights_multiple, multiple_weights_0_penalty, multiple_weights_high_penalty])"
   ]
  },
  {
   "cell_type": "markdown",
   "metadata": {},
   "source": [
    "Predict the house price for the 1st house in the test set using the no regularization and high regularization models. (Remember that python starts indexing from 0.) How far is the prediction from the actual price?  Which weights perform best for the 1st house?"
   ]
  },
  {
   "cell_type": "code",
   "execution_count": 214,
   "metadata": {},
   "outputs": [
    {
     "name": "stdout",
     "output_type": "stream",
     "text": [
      "price prediction error no penalty:\t$77464.6936\n",
      "price prediction error with penalty:\t$39546.4659\n"
     ]
    }
   ],
   "source": [
    "price_diff_0_penalty = abs(predict_output(test_feature_matrix[0], multiple_weights_0_penalty) - test_output[0])\n",
    "price_diff_high_penalty = abs(predict_output(test_feature_matrix[0], multiple_weights_high_penalty) - test_output[0])\n",
    "\n",
    "print(\"price prediction error no penalty:\\t$%0.4f\" % price_diff_0_penalty)\n",
    "print(\"price prediction error with penalty:\\t$%0.4f\" % price_diff_high_penalty)"
   ]
  },
  {
   "cell_type": "markdown",
   "metadata": {
    "collapsed": true
   },
   "source": [
    "***QUIZ QUESTIONS***\n",
    "1. What is the value of the coefficient for `sqft_living` that you learned with no regularization, rounded to 1 decimal place?  What about the one with high regularization?\n",
    "2. What are the RSS on the test data for each of the set of weights above (initial, no regularization, high regularization)? \n",
    "3. We make prediction for the first house in the test set using two sets of weights (no regularization vs high regularization). Which weights make better prediction <u>for that particular house</u>?"
   ]
  }
 ],
 "metadata": {
  "kernelspec": {
   "display_name": "Python 3",
   "language": "python",
   "name": "python3"
  },
  "language_info": {
   "codemirror_mode": {
    "name": "ipython",
    "version": 3
   },
   "file_extension": ".py",
   "mimetype": "text/x-python",
   "name": "python",
   "nbconvert_exporter": "python",
   "pygments_lexer": "ipython3",
   "version": "3.8.10"
  }
 },
 "nbformat": 4,
 "nbformat_minor": 1
}
