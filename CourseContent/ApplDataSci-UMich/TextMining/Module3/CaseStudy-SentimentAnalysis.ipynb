{
 "cells": [
  {
   "cell_type": "markdown",
   "metadata": {},
   "source": [
    "---\n",
    "\n",
    "_You are currently looking at **version 1.0** of this notebook. To download notebooks and datafiles, as well as get help on Jupyter notebooks in the Coursera platform, visit the [Jupyter Notebook FAQ](https://www.coursera.org/learn/python-text-mining/resources/d9pwm) course resource._\n",
    "\n",
    "---"
   ]
  },
  {
   "cell_type": "markdown",
   "metadata": {},
   "source": [
    "*Note: Some of the cells in this notebook are computationally expensive. To reduce runtime, this notebook is using a subset of the data.*"
   ]
  },
  {
   "cell_type": "markdown",
   "metadata": {},
   "source": [
    "# Case Study: Sentiment Analysis"
   ]
  },
  {
   "cell_type": "code",
   "execution_count": 1,
   "metadata": {},
   "outputs": [],
   "source": [
    "#Amazon_Unlocked_Mobile = df.sample(frac=1, random_state=10)\n",
    "#Amazon_Unlocked_Mobile.to_csv(r'Amazon_Unlocked_Mobile_reduced.csv', index = False)"
   ]
  },
  {
   "cell_type": "code",
   "execution_count": 2,
   "metadata": {},
   "outputs": [
    {
     "data": {
      "text/html": [
       "<div>\n",
       "<style scoped>\n",
       "    .dataframe tbody tr th:only-of-type {\n",
       "        vertical-align: middle;\n",
       "    }\n",
       "\n",
       "    .dataframe tbody tr th {\n",
       "        vertical-align: top;\n",
       "    }\n",
       "\n",
       "    .dataframe thead th {\n",
       "        text-align: right;\n",
       "    }\n",
       "</style>\n",
       "<table border=\"1\" class=\"dataframe\">\n",
       "  <thead>\n",
       "    <tr style=\"text-align: right;\">\n",
       "      <th></th>\n",
       "      <th>Product Name</th>\n",
       "      <th>Brand Name</th>\n",
       "      <th>Price</th>\n",
       "      <th>Rating</th>\n",
       "      <th>Reviews</th>\n",
       "      <th>Review Votes</th>\n",
       "    </tr>\n",
       "  </thead>\n",
       "  <tbody>\n",
       "    <tr>\n",
       "      <th>8841</th>\n",
       "      <td>Apple iPhone 6 128GB Factory Unlocked GSM Smar...</td>\n",
       "      <td>Apple</td>\n",
       "      <td>449.99</td>\n",
       "      <td>5</td>\n",
       "      <td>Looks 100% like a new one</td>\n",
       "      <td>4.0</td>\n",
       "    </tr>\n",
       "    <tr>\n",
       "      <th>32237</th>\n",
       "      <td>Apple iPhone 5 16GB - Unlocked - Black (Certif...</td>\n",
       "      <td>Apple</td>\n",
       "      <td>124.00</td>\n",
       "      <td>5</td>\n",
       "      <td>It has been working great I would recommend this</td>\n",
       "      <td>0.0</td>\n",
       "    </tr>\n",
       "    <tr>\n",
       "      <th>28177</th>\n",
       "      <td>Samsung T139 Unlocked Phone with Camera, Bluet...</td>\n",
       "      <td>Samsung</td>\n",
       "      <td>33.95</td>\n",
       "      <td>5</td>\n",
       "      <td>This was a replacement phone for the broken on...</td>\n",
       "      <td>1.0</td>\n",
       "    </tr>\n",
       "    <tr>\n",
       "      <th>6928</th>\n",
       "      <td>LG Optimus Factory Unlocked Gsm Android Phone ...</td>\n",
       "      <td>LG</td>\n",
       "      <td>208.76</td>\n",
       "      <td>3</td>\n",
       "      <td>the processor is too slow</td>\n",
       "      <td>0.0</td>\n",
       "    </tr>\n",
       "    <tr>\n",
       "      <th>10916</th>\n",
       "      <td>Samsung Galaxy S6 G920A 64GB Unlocked GSM 4G L...</td>\n",
       "      <td>Samsung</td>\n",
       "      <td>429.93</td>\n",
       "      <td>5</td>\n",
       "      <td>Everything is perfect I found no problem with ...</td>\n",
       "      <td>0.0</td>\n",
       "    </tr>\n",
       "  </tbody>\n",
       "</table>\n",
       "</div>"
      ],
      "text/plain": [
       "                                            Product Name Brand Name   Price  \\\n",
       "8841   Apple iPhone 6 128GB Factory Unlocked GSM Smar...      Apple  449.99   \n",
       "32237  Apple iPhone 5 16GB - Unlocked - Black (Certif...      Apple  124.00   \n",
       "28177  Samsung T139 Unlocked Phone with Camera, Bluet...    Samsung   33.95   \n",
       "6928   LG Optimus Factory Unlocked Gsm Android Phone ...         LG  208.76   \n",
       "10916  Samsung Galaxy S6 G920A 64GB Unlocked GSM 4G L...    Samsung  429.93   \n",
       "\n",
       "       Rating                                            Reviews  Review Votes  \n",
       "8841        5                          Looks 100% like a new one           4.0  \n",
       "32237       5   It has been working great I would recommend this           0.0  \n",
       "28177       5  This was a replacement phone for the broken on...           1.0  \n",
       "6928        3                          the processor is too slow           0.0  \n",
       "10916       5  Everything is perfect I found no problem with ...           0.0  "
      ]
     },
     "execution_count": 2,
     "metadata": {},
     "output_type": "execute_result"
    }
   ],
   "source": [
    "import pandas as pd\n",
    "import numpy as np\n",
    "\n",
    "# Read in the data\n",
    "df = pd.read_csv('Amazon_Unlocked_Mobile_reduced.csv')\n",
    "\n",
    "# Sample the data to speed up computation\n",
    "# Comment out this line to match with lecture\n",
    "df = df.sample(frac=0.1, random_state=10)\n",
    "\n",
    "df.head()"
   ]
  },
  {
   "cell_type": "markdown",
   "metadata": {},
   "source": [
    "### Data Prep"
   ]
  },
  {
   "cell_type": "code",
   "execution_count": 3,
   "metadata": {},
   "outputs": [
    {
     "data": {
      "text/html": [
       "<div>\n",
       "<style scoped>\n",
       "    .dataframe tbody tr th:only-of-type {\n",
       "        vertical-align: middle;\n",
       "    }\n",
       "\n",
       "    .dataframe tbody tr th {\n",
       "        vertical-align: top;\n",
       "    }\n",
       "\n",
       "    .dataframe thead th {\n",
       "        text-align: right;\n",
       "    }\n",
       "</style>\n",
       "<table border=\"1\" class=\"dataframe\">\n",
       "  <thead>\n",
       "    <tr style=\"text-align: right;\">\n",
       "      <th></th>\n",
       "      <th>Product Name</th>\n",
       "      <th>Brand Name</th>\n",
       "      <th>Price</th>\n",
       "      <th>Rating</th>\n",
       "      <th>Reviews</th>\n",
       "      <th>Review Votes</th>\n",
       "      <th>Positively Rated</th>\n",
       "    </tr>\n",
       "  </thead>\n",
       "  <tbody>\n",
       "    <tr>\n",
       "      <th>8841</th>\n",
       "      <td>Apple iPhone 6 128GB Factory Unlocked GSM Smar...</td>\n",
       "      <td>Apple</td>\n",
       "      <td>449.99</td>\n",
       "      <td>5</td>\n",
       "      <td>Looks 100% like a new one</td>\n",
       "      <td>4.0</td>\n",
       "      <td>1</td>\n",
       "    </tr>\n",
       "    <tr>\n",
       "      <th>32237</th>\n",
       "      <td>Apple iPhone 5 16GB - Unlocked - Black (Certif...</td>\n",
       "      <td>Apple</td>\n",
       "      <td>124.00</td>\n",
       "      <td>5</td>\n",
       "      <td>It has been working great I would recommend this</td>\n",
       "      <td>0.0</td>\n",
       "      <td>1</td>\n",
       "    </tr>\n",
       "    <tr>\n",
       "      <th>28177</th>\n",
       "      <td>Samsung T139 Unlocked Phone with Camera, Bluet...</td>\n",
       "      <td>Samsung</td>\n",
       "      <td>33.95</td>\n",
       "      <td>5</td>\n",
       "      <td>This was a replacement phone for the broken on...</td>\n",
       "      <td>1.0</td>\n",
       "      <td>1</td>\n",
       "    </tr>\n",
       "    <tr>\n",
       "      <th>10916</th>\n",
       "      <td>Samsung Galaxy S6 G920A 64GB Unlocked GSM 4G L...</td>\n",
       "      <td>Samsung</td>\n",
       "      <td>429.93</td>\n",
       "      <td>5</td>\n",
       "      <td>Everything is perfect I found no problem with ...</td>\n",
       "      <td>0.0</td>\n",
       "      <td>1</td>\n",
       "    </tr>\n",
       "    <tr>\n",
       "      <th>27493</th>\n",
       "      <td>Apple iPhone 5C 16GB White - Unlocked Cell Phones</td>\n",
       "      <td>Apple</td>\n",
       "      <td>135.00</td>\n",
       "      <td>5</td>\n",
       "      <td>my son loves his iPhone</td>\n",
       "      <td>0.0</td>\n",
       "      <td>1</td>\n",
       "    </tr>\n",
       "    <tr>\n",
       "      <th>4152</th>\n",
       "      <td>Sony Ericsson XPERIA X10 Mini E10i Unlocked Sm...</td>\n",
       "      <td>Sony Ericsson Mobile</td>\n",
       "      <td>143.99</td>\n",
       "      <td>4</td>\n",
       "      <td>It's a pretty decent phone. Everybody is in sh...</td>\n",
       "      <td>2.0</td>\n",
       "      <td>1</td>\n",
       "    </tr>\n",
       "    <tr>\n",
       "      <th>22229</th>\n",
       "      <td>Apple iPhone 6 Plus Unlocked Cellphone, 16GB, ...</td>\n",
       "      <td>Apple</td>\n",
       "      <td>519.00</td>\n",
       "      <td>5</td>\n",
       "      <td>Awesom</td>\n",
       "      <td>0.0</td>\n",
       "      <td>1</td>\n",
       "    </tr>\n",
       "    <tr>\n",
       "      <th>40586</th>\n",
       "      <td>ZTE Axon 7 unlocked smartphone,64GB Grey (US W...</td>\n",
       "      <td>ZTE</td>\n",
       "      <td>399.99</td>\n",
       "      <td>1</td>\n",
       "      <td>Unfortunately, while the product seemed to be ...</td>\n",
       "      <td>13.0</td>\n",
       "      <td>0</td>\n",
       "    </tr>\n",
       "    <tr>\n",
       "      <th>16061</th>\n",
       "      <td>Samsung Galaxy S5 SM-G900T - 16GB - Shimmery W...</td>\n",
       "      <td>Samsung</td>\n",
       "      <td>189.99</td>\n",
       "      <td>5</td>\n",
       "      <td>Great..loving every minute of it.</td>\n",
       "      <td>0.0</td>\n",
       "      <td>1</td>\n",
       "    </tr>\n",
       "    <tr>\n",
       "      <th>9626</th>\n",
       "      <td>Apple iPhone 5s 64GB (Gold) -T-Mobile</td>\n",
       "      <td>Apple</td>\n",
       "      <td>265.00</td>\n",
       "      <td>5</td>\n",
       "      <td>Im loving it....So far it works very good no p...</td>\n",
       "      <td>1.0</td>\n",
       "      <td>1</td>\n",
       "    </tr>\n",
       "  </tbody>\n",
       "</table>\n",
       "</div>"
      ],
      "text/plain": [
       "                                            Product Name  \\\n",
       "8841   Apple iPhone 6 128GB Factory Unlocked GSM Smar...   \n",
       "32237  Apple iPhone 5 16GB - Unlocked - Black (Certif...   \n",
       "28177  Samsung T139 Unlocked Phone with Camera, Bluet...   \n",
       "10916  Samsung Galaxy S6 G920A 64GB Unlocked GSM 4G L...   \n",
       "27493  Apple iPhone 5C 16GB White - Unlocked Cell Phones   \n",
       "4152   Sony Ericsson XPERIA X10 Mini E10i Unlocked Sm...   \n",
       "22229  Apple iPhone 6 Plus Unlocked Cellphone, 16GB, ...   \n",
       "40586  ZTE Axon 7 unlocked smartphone,64GB Grey (US W...   \n",
       "16061  Samsung Galaxy S5 SM-G900T - 16GB - Shimmery W...   \n",
       "9626               Apple iPhone 5s 64GB (Gold) -T-Mobile   \n",
       "\n",
       "                 Brand Name   Price  Rating  \\\n",
       "8841                  Apple  449.99       5   \n",
       "32237                 Apple  124.00       5   \n",
       "28177               Samsung   33.95       5   \n",
       "10916               Samsung  429.93       5   \n",
       "27493                 Apple  135.00       5   \n",
       "4152   Sony Ericsson Mobile  143.99       4   \n",
       "22229                 Apple  519.00       5   \n",
       "40586                   ZTE  399.99       1   \n",
       "16061               Samsung  189.99       5   \n",
       "9626                  Apple  265.00       5   \n",
       "\n",
       "                                                 Reviews  Review Votes  \\\n",
       "8841                           Looks 100% like a new one           4.0   \n",
       "32237   It has been working great I would recommend this           0.0   \n",
       "28177  This was a replacement phone for the broken on...           1.0   \n",
       "10916  Everything is perfect I found no problem with ...           0.0   \n",
       "27493                            my son loves his iPhone           0.0   \n",
       "4152   It's a pretty decent phone. Everybody is in sh...           2.0   \n",
       "22229                                             Awesom           0.0   \n",
       "40586  Unfortunately, while the product seemed to be ...          13.0   \n",
       "16061                  Great..loving every minute of it.           0.0   \n",
       "9626   Im loving it....So far it works very good no p...           1.0   \n",
       "\n",
       "       Positively Rated  \n",
       "8841                  1  \n",
       "32237                 1  \n",
       "28177                 1  \n",
       "10916                 1  \n",
       "27493                 1  \n",
       "4152                  1  \n",
       "22229                 1  \n",
       "40586                 0  \n",
       "16061                 1  \n",
       "9626                  1  "
      ]
     },
     "execution_count": 3,
     "metadata": {},
     "output_type": "execute_result"
    }
   ],
   "source": [
    "# Drop missing values\n",
    "df.dropna(inplace=True)\n",
    "\n",
    "# Remove any 'neutral' ratings equal to 3\n",
    "df = df[df['Rating'] != 3]\n",
    "\n",
    "# Encode 4s and 5s as 1 (rated positively)\n",
    "# Encode 1s and 2s as 0 (rated poorly)\n",
    "df['Positively Rated'] = np.where(df['Rating'] > 3, 1, 0)\n",
    "df.head(10)"
   ]
  },
  {
   "cell_type": "code",
   "execution_count": 4,
   "metadata": {},
   "outputs": [
    {
     "data": {
      "text/plain": [
       "0.7466882067851374"
      ]
     },
     "execution_count": 4,
     "metadata": {},
     "output_type": "execute_result"
    }
   ],
   "source": [
    "# Most ratings are positive\n",
    "df['Positively Rated'].mean()"
   ]
  },
  {
   "cell_type": "code",
   "execution_count": 5,
   "metadata": {},
   "outputs": [],
   "source": [
    "from sklearn.model_selection import train_test_split\n",
    "\n",
    "# Split data into training and test sets\n",
    "X_train, X_test, y_train, y_test = train_test_split(df['Reviews'], \n",
    "                                                    df['Positively Rated'], \n",
    "                                                    random_state=0)"
   ]
  },
  {
   "cell_type": "code",
   "execution_count": 6,
   "metadata": {},
   "outputs": [
    {
     "name": "stdout",
     "output_type": "stream",
     "text": [
      "X_train first entry:\n",
      "\n",
      " Great value for money. Plus it is stylish.\n",
      "\n",
      "\n",
      "X_train shape:  (2321,)\n"
     ]
    }
   ],
   "source": [
    "print('X_train first entry:\\n\\n', X_train.iloc[0])\n",
    "print('\\n\\nX_train shape: ', X_train.shape)"
   ]
  },
  {
   "cell_type": "markdown",
   "metadata": {},
   "source": [
    "# CountVectorizer"
   ]
  },
  {
   "cell_type": "code",
   "execution_count": 7,
   "metadata": {},
   "outputs": [],
   "source": [
    "from sklearn.feature_extraction.text import CountVectorizer\n",
    "\n",
    "# Fit the CountVectorizer to the training data\n",
    "vect = CountVectorizer().fit(X_train)"
   ]
  },
  {
   "cell_type": "code",
   "execution_count": 8,
   "metadata": {
    "scrolled": false
   },
   "outputs": [
    {
     "name": "stderr",
     "output_type": "stream",
     "text": [
      "C:\\Users\\gerry\\anaconda3\\lib\\site-packages\\sklearn\\utils\\deprecation.py:87: FutureWarning: Function get_feature_names is deprecated; get_feature_names is deprecated in 1.0 and will be removed in 1.2. Please use get_feature_names_out instead.\n",
      "  warnings.warn(msg, category=FutureWarning)\n"
     ]
    },
    {
     "data": {
      "text/plain": [
       "['00', 'entry', 'optimus', 'unacceptable']"
      ]
     },
     "execution_count": 8,
     "metadata": {},
     "output_type": "execute_result"
    }
   ],
   "source": [
    "vect.get_feature_names()[::2000]"
   ]
  },
  {
   "cell_type": "code",
   "execution_count": 9,
   "metadata": {},
   "outputs": [
    {
     "data": {
      "text/plain": [
       "6497"
      ]
     },
     "execution_count": 9,
     "metadata": {},
     "output_type": "execute_result"
    }
   ],
   "source": [
    "len(vect.get_feature_names())"
   ]
  },
  {
   "cell_type": "code",
   "execution_count": 10,
   "metadata": {},
   "outputs": [
    {
     "data": {
      "text/plain": [
       "<2321x6497 sparse matrix of type '<class 'numpy.int64'>'\n",
       "\twith 65016 stored elements in Compressed Sparse Row format>"
      ]
     },
     "execution_count": 10,
     "metadata": {},
     "output_type": "execute_result"
    }
   ],
   "source": [
    "# transform the documents in the training data to a document-term matrix\n",
    "X_train_vectorized = vect.transform(X_train)\n",
    "\n",
    "X_train_vectorized"
   ]
  },
  {
   "cell_type": "code",
   "execution_count": 11,
   "metadata": {},
   "outputs": [
    {
     "name": "stderr",
     "output_type": "stream",
     "text": [
      "C:\\Users\\gerry\\anaconda3\\lib\\site-packages\\sklearn\\linear_model\\_logistic.py:814: ConvergenceWarning: lbfgs failed to converge (status=1):\n",
      "STOP: TOTAL NO. of ITERATIONS REACHED LIMIT.\n",
      "\n",
      "Increase the number of iterations (max_iter) or scale the data as shown in:\n",
      "    https://scikit-learn.org/stable/modules/preprocessing.html\n",
      "Please also refer to the documentation for alternative solver options:\n",
      "    https://scikit-learn.org/stable/modules/linear_model.html#logistic-regression\n",
      "  n_iter_i = _check_optimize_result(\n"
     ]
    },
    {
     "data": {
      "text/plain": [
       "LogisticRegression()"
      ]
     },
     "execution_count": 11,
     "metadata": {},
     "output_type": "execute_result"
    }
   ],
   "source": [
    "from sklearn.linear_model import LogisticRegression\n",
    "\n",
    "# Train the model\n",
    "model = LogisticRegression()\n",
    "model.fit(X_train_vectorized, y_train)"
   ]
  },
  {
   "cell_type": "code",
   "execution_count": 12,
   "metadata": {},
   "outputs": [
    {
     "name": "stdout",
     "output_type": "stream",
     "text": [
      "AUC:  0.8461517952364024\n"
     ]
    }
   ],
   "source": [
    "from sklearn.metrics import roc_auc_score\n",
    "\n",
    "# Predict the transformed test documents\n",
    "predictions = model.predict(vect.transform(X_test))\n",
    "\n",
    "print('AUC: ', roc_auc_score(y_test, predictions))"
   ]
  },
  {
   "cell_type": "code",
   "execution_count": 13,
   "metadata": {
    "scrolled": true
   },
   "outputs": [
    {
     "name": "stdout",
     "output_type": "stream",
     "text": [
      "Smallest Coefs:\n",
      "['not' 'bad' 'slow' 'months' 'doesn' 'locked' 'broken' 'didn' 'poor'\n",
      " 'disappointed']\n",
      "\n",
      "Largest Coefs: \n",
      "['great' 'love' 'excellent' 'excelente' 'perfect' 'good' 'nice' 'awesome'\n",
      " 'excelent' 'happy']\n"
     ]
    },
    {
     "name": "stderr",
     "output_type": "stream",
     "text": [
      "C:\\Users\\gerry\\anaconda3\\lib\\site-packages\\sklearn\\utils\\deprecation.py:87: FutureWarning: Function get_feature_names is deprecated; get_feature_names is deprecated in 1.0 and will be removed in 1.2. Please use get_feature_names_out instead.\n",
      "  warnings.warn(msg, category=FutureWarning)\n"
     ]
    }
   ],
   "source": [
    "# get the feature names as numpy array\n",
    "feature_names = np.array(vect.get_feature_names())\n",
    "\n",
    "# Sort the coefficients from the model\n",
    "sorted_coef_index = model.coef_[0].argsort()\n",
    "\n",
    "# Find the 10 smallest and 10 largest coefficients\n",
    "# The 10 largest coefficients are being indexed using [:-11:-1] \n",
    "# so the list returned is in order of largest to smallest\n",
    "print('Smallest Coefs:\\n{}\\n'.format(feature_names[sorted_coef_index[:10]]))\n",
    "print('Largest Coefs: \\n{}'.format(feature_names[sorted_coef_index[:-11:-1]]))"
   ]
  },
  {
   "cell_type": "markdown",
   "metadata": {},
   "source": [
    "# Tfidf"
   ]
  },
  {
   "cell_type": "code",
   "execution_count": 14,
   "metadata": {},
   "outputs": [
    {
     "data": {
      "text/plain": [
       "1600"
      ]
     },
     "execution_count": 14,
     "metadata": {},
     "output_type": "execute_result"
    }
   ],
   "source": [
    "from sklearn.feature_extraction.text import TfidfVectorizer\n",
    "\n",
    "# Fit the TfidfVectorizer to the training data specifiying a minimum document frequency of 5\n",
    "vect = TfidfVectorizer(min_df=5).fit(X_train)\n",
    "len(vect.get_feature_names())"
   ]
  },
  {
   "cell_type": "code",
   "execution_count": 15,
   "metadata": {},
   "outputs": [
    {
     "name": "stdout",
     "output_type": "stream",
     "text": [
      "AUC:  0.7843227870600782\n"
     ]
    }
   ],
   "source": [
    "X_train_vectorized = vect.transform(X_train)\n",
    "\n",
    "model = LogisticRegression()\n",
    "model.fit(X_train_vectorized, y_train)\n",
    "\n",
    "predictions = model.predict(vect.transform(X_test))\n",
    "\n",
    "print('AUC: ', roc_auc_score(y_test, predictions))"
   ]
  },
  {
   "cell_type": "code",
   "execution_count": 16,
   "metadata": {},
   "outputs": [
    {
     "name": "stdout",
     "output_type": "stream",
     "text": [
      "Smallest tfidf:\n",
      "['300' 'supposedly' 'song' 'usable' 'decision' 'users' 'rounded' 'typing'\n",
      " 'slower' 'hundreds']\n",
      "\n",
      "Largest tfidf: \n",
      "['regular' 'none' 'disappointing' 'okay' 'ok' 'very' 'excelent'\n",
      " 'excelente' 'excellent' 'amazing']\n"
     ]
    },
    {
     "name": "stderr",
     "output_type": "stream",
     "text": [
      "C:\\Users\\gerry\\anaconda3\\lib\\site-packages\\sklearn\\utils\\deprecation.py:87: FutureWarning: Function get_feature_names is deprecated; get_feature_names is deprecated in 1.0 and will be removed in 1.2. Please use get_feature_names_out instead.\n",
      "  warnings.warn(msg, category=FutureWarning)\n"
     ]
    }
   ],
   "source": [
    "feature_names = np.array(vect.get_feature_names())\n",
    "\n",
    "sorted_tfidf_index = X_train_vectorized.max(0).toarray()[0].argsort()\n",
    "\n",
    "print('Smallest tfidf:\\n{}\\n'.format(feature_names[sorted_tfidf_index[:10]]))\n",
    "print('Largest tfidf: \\n{}'.format(feature_names[sorted_tfidf_index[:-11:-1]]))"
   ]
  },
  {
   "cell_type": "code",
   "execution_count": 17,
   "metadata": {},
   "outputs": [
    {
     "name": "stdout",
     "output_type": "stream",
     "text": [
      "Smallest Coefs:\n",
      "['not' 'bad' 'locked' 'slow' 'months' 'doesn' 'work' 'broken' 'money'\n",
      " 'return']\n",
      "\n",
      "Largest Coefs: \n",
      "['great' 'love' 'good' 'excellent' 'perfect' 'works' 'excelente' 'nice'\n",
      " 'happy' 'awesome']\n"
     ]
    }
   ],
   "source": [
    "sorted_coef_index = model.coef_[0].argsort()\n",
    "\n",
    "print('Smallest Coefs:\\n{}\\n'.format(feature_names[sorted_coef_index[:10]]))\n",
    "print('Largest Coefs: \\n{}'.format(feature_names[sorted_coef_index[:-11:-1]]))"
   ]
  },
  {
   "cell_type": "code",
   "execution_count": 18,
   "metadata": {},
   "outputs": [
    {
     "name": "stdout",
     "output_type": "stream",
     "text": [
      "[0 0]\n"
     ]
    }
   ],
   "source": [
    "# These reviews are treated the same by our current model\n",
    "print(model.predict(vect.transform(['not an issue, phone is working',\n",
    "                                    'an issue, phone is not working'])))"
   ]
  },
  {
   "cell_type": "markdown",
   "metadata": {},
   "source": [
    "# n-grams"
   ]
  },
  {
   "cell_type": "code",
   "execution_count": 19,
   "metadata": {},
   "outputs": [
    {
     "data": {
      "text/plain": [
       "4020"
      ]
     },
     "execution_count": 19,
     "metadata": {},
     "output_type": "execute_result"
    }
   ],
   "source": [
    "# Fit the CountVectorizer to the training data specifiying a minimum \n",
    "# document frequency of 5 and extracting 1-grams and 2-grams\n",
    "vect = CountVectorizer(min_df=5, ngram_range=(1,2)).fit(X_train)\n",
    "\n",
    "X_train_vectorized = vect.transform(X_train)\n",
    "\n",
    "len(vect.get_feature_names())"
   ]
  },
  {
   "cell_type": "code",
   "execution_count": 20,
   "metadata": {},
   "outputs": [
    {
     "name": "stdout",
     "output_type": "stream",
     "text": [
      "AUC:  0.844427657305368\n"
     ]
    }
   ],
   "source": [
    "model = LogisticRegression()\n",
    "model.fit(X_train_vectorized, y_train)\n",
    "\n",
    "predictions = model.predict(vect.transform(X_test))\n",
    "\n",
    "print('AUC: ', roc_auc_score(y_test, predictions))"
   ]
  },
  {
   "cell_type": "code",
   "execution_count": 21,
   "metadata": {},
   "outputs": [
    {
     "name": "stdout",
     "output_type": "stream",
     "text": [
      "Smallest Coefs:\n",
      "['not' 'bad' 'doesn' 'slow' 'months' 'locked' 'broken' 'not good' 'didn'\n",
      " 'wrong']\n",
      "\n",
      "Largest Coefs: \n",
      "['great' 'excellent' 'love' 'excelente' 'perfect' 'good' 'nice' 'awesome'\n",
      " 'excelent' 'happy']\n"
     ]
    },
    {
     "name": "stderr",
     "output_type": "stream",
     "text": [
      "C:\\Users\\gerry\\anaconda3\\lib\\site-packages\\sklearn\\utils\\deprecation.py:87: FutureWarning: Function get_feature_names is deprecated; get_feature_names is deprecated in 1.0 and will be removed in 1.2. Please use get_feature_names_out instead.\n",
      "  warnings.warn(msg, category=FutureWarning)\n"
     ]
    }
   ],
   "source": [
    "feature_names = np.array(vect.get_feature_names())\n",
    "\n",
    "sorted_coef_index = model.coef_[0].argsort()\n",
    "\n",
    "print('Smallest Coefs:\\n{}\\n'.format(feature_names[sorted_coef_index[:10]]))\n",
    "print('Largest Coefs: \\n{}'.format(feature_names[sorted_coef_index[:-11:-1]]))"
   ]
  },
  {
   "cell_type": "code",
   "execution_count": 22,
   "metadata": {},
   "outputs": [
    {
     "name": "stdout",
     "output_type": "stream",
     "text": [
      "[0 0]\n"
     ]
    }
   ],
   "source": [
    "# These reviews are now correctly identified\n",
    "print(model.predict(vect.transform(['not an issue, phone is working',\n",
    "                                    'an issue, phone is not working'])))"
   ]
  }
 ],
 "metadata": {
  "kernelspec": {
   "display_name": "Python 3 (ipykernel)",
   "language": "python",
   "name": "python3"
  },
  "language_info": {
   "codemirror_mode": {
    "name": "ipython",
    "version": 3
   },
   "file_extension": ".py",
   "mimetype": "text/x-python",
   "name": "python",
   "nbconvert_exporter": "python",
   "pygments_lexer": "ipython3",
   "version": "3.9.15"
  }
 },
 "nbformat": 4,
 "nbformat_minor": 2
}
