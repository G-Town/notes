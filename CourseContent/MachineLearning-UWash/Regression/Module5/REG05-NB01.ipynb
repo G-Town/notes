{
 "cells": [
  {
   "cell_type": "markdown",
   "metadata": {},
   "source": [
    "# Regression Week 5: Feature Selection and LASSO (Interpretation)"
   ]
  },
  {
   "cell_type": "markdown",
   "metadata": {},
   "source": [
    "In this notebook, you will use LASSO to select features, building on a pre-implemented solver for LASSO (using Turi Create, though you can use other solvers). You will:\n",
    "* Run LASSO with different L1 penalties.\n",
    "* Choose best L1 penalty using a validation set.\n",
    "* Choose best L1 penalty using a validation set, with additional constraint on the size of subset.\n",
    "\n",
    "In the second notebook, you will implement your own LASSO solver, using coordinate descent. "
   ]
  },
  {
   "cell_type": "markdown",
   "metadata": {},
   "source": [
    "# Fire up Turi Create"
   ]
  },
  {
   "cell_type": "code",
   "execution_count": 170,
   "metadata": {},
   "outputs": [],
   "source": [
    "import turicreate"
   ]
  },
  {
   "cell_type": "markdown",
   "metadata": {},
   "source": [
    "# Load in house sales data\n",
    "\n",
    "Dataset is from house sales in King County, the region where the city of Seattle, WA is located."
   ]
  },
  {
   "cell_type": "code",
   "execution_count": 171,
   "metadata": {
    "scrolled": true
   },
   "outputs": [],
   "source": [
    "sales = turicreate.SFrame('../home_data.sframe/')"
   ]
  },
  {
   "cell_type": "markdown",
   "metadata": {},
   "source": [
    "# Create new features"
   ]
  },
  {
   "cell_type": "markdown",
   "metadata": {},
   "source": [
    "As in Week 2, we consider features that are some transformations of inputs."
   ]
  },
  {
   "cell_type": "code",
   "execution_count": 172,
   "metadata": {},
   "outputs": [],
   "source": [
    "from math import log, sqrt\n",
    "sales['sqft_living_sqrt'] = sales['sqft_living'].apply(sqrt)\n",
    "sales['sqft_lot_sqrt'] = sales['sqft_lot'].apply(sqrt)\n",
    "sales['bedrooms_square'] = sales['bedrooms']*sales['bedrooms']\n",
    "\n",
    "# In the dataset, 'floors' was defined with type string, \n",
    "# so we'll convert them to float, before creating a new feature.\n",
    "sales['floors'] = sales['floors'].astype(float) \n",
    "sales['floors_square'] = sales['floors']*sales['floors']"
   ]
  },
  {
   "cell_type": "markdown",
   "metadata": {},
   "source": [
    "* Squaring bedrooms will increase the separation between not many bedrooms (e.g. 1) and lots of bedrooms (e.g. 4) since 1^2 = 1 but 4^2 = 16. Consequently this variable will mostly affect houses with many bedrooms.\n",
    "* On the other hand, taking square root of sqft_living will decrease the separation between big house and small house. The owner may not be exactly twice as happy for getting a house that is twice as big."
   ]
  },
  {
   "cell_type": "markdown",
   "metadata": {},
   "source": [
    "# Learn regression weights with L1 penalty"
   ]
  },
  {
   "cell_type": "markdown",
   "metadata": {},
   "source": [
    "Let us fit a model with all the features available, plus the features we just created above."
   ]
  },
  {
   "cell_type": "code",
   "execution_count": 173,
   "metadata": {},
   "outputs": [],
   "source": [
    "all_features = ['bedrooms', 'bedrooms_square',\n",
    "                'bathrooms',\n",
    "                'sqft_living', 'sqft_living_sqrt',\n",
    "                'sqft_lot', 'sqft_lot_sqrt',\n",
    "                'floors', 'floors_square',\n",
    "                'waterfront', 'view', 'condition', 'grade',\n",
    "                'sqft_above',\n",
    "                'sqft_basement',\n",
    "                'yr_built', 'yr_renovated']"
   ]
  },
  {
   "cell_type": "markdown",
   "metadata": {},
   "source": [
    "Applying L1 penalty requires adding an extra parameter (`l1_penalty`) to the linear regression call in Turi Create. (Other tools may have separate implementations of LASSO.)  Note that it's important to set `l2_penalty=0` to ensure we don't introduce an additional L2 penalty."
   ]
  },
  {
   "cell_type": "code",
   "execution_count": 174,
   "metadata": {},
   "outputs": [
    {
     "data": {
      "text/html": [
       "<pre>Linear regression:</pre>"
      ],
      "text/plain": [
       "Linear regression:"
      ]
     },
     "metadata": {},
     "output_type": "display_data"
    },
    {
     "data": {
      "text/html": [
       "<pre>--------------------------------------------------------</pre>"
      ],
      "text/plain": [
       "--------------------------------------------------------"
      ]
     },
     "metadata": {},
     "output_type": "display_data"
    },
    {
     "data": {
      "text/html": [
       "<pre>Number of examples          : 21613</pre>"
      ],
      "text/plain": [
       "Number of examples          : 21613"
      ]
     },
     "metadata": {},
     "output_type": "display_data"
    },
    {
     "data": {
      "text/html": [
       "<pre>Number of features          : 17</pre>"
      ],
      "text/plain": [
       "Number of features          : 17"
      ]
     },
     "metadata": {},
     "output_type": "display_data"
    },
    {
     "data": {
      "text/html": [
       "<pre>Number of unpacked features : 17</pre>"
      ],
      "text/plain": [
       "Number of unpacked features : 17"
      ]
     },
     "metadata": {},
     "output_type": "display_data"
    },
    {
     "data": {
      "text/html": [
       "<pre>Number of coefficients    : 18</pre>"
      ],
      "text/plain": [
       "Number of coefficients    : 18"
      ]
     },
     "metadata": {},
     "output_type": "display_data"
    },
    {
     "data": {
      "text/html": [
       "<pre>Starting Accelerated Gradient (FISTA)</pre>"
      ],
      "text/plain": [
       "Starting Accelerated Gradient (FISTA)"
      ]
     },
     "metadata": {},
     "output_type": "display_data"
    },
    {
     "data": {
      "text/html": [
       "<pre>--------------------------------------------------------</pre>"
      ],
      "text/plain": [
       "--------------------------------------------------------"
      ]
     },
     "metadata": {},
     "output_type": "display_data"
    },
    {
     "data": {
      "text/html": [
       "<pre>Tuning step size. First iteration could take longer than subsequent iterations.</pre>"
      ],
      "text/plain": [
       "Tuning step size. First iteration could take longer than subsequent iterations."
      ]
     },
     "metadata": {},
     "output_type": "display_data"
    },
    {
     "data": {
      "text/html": [
       "<pre>+-----------+----------+-----------+--------------+--------------------+---------------------------------+</pre>"
      ],
      "text/plain": [
       "+-----------+----------+-----------+--------------+--------------------+---------------------------------+"
      ]
     },
     "metadata": {},
     "output_type": "display_data"
    },
    {
     "data": {
      "text/html": [
       "<pre>| Iteration | Passes   | Step size | Elapsed Time | Training Max Error | Training Root-Mean-Square Error |</pre>"
      ],
      "text/plain": [
       "| Iteration | Passes   | Step size | Elapsed Time | Training Max Error | Training Root-Mean-Square Error |"
      ]
     },
     "metadata": {},
     "output_type": "display_data"
    },
    {
     "data": {
      "text/html": [
       "<pre>+-----------+----------+-----------+--------------+--------------------+---------------------------------+</pre>"
      ],
      "text/plain": [
       "+-----------+----------+-----------+--------------+--------------------+---------------------------------+"
      ]
     },
     "metadata": {},
     "output_type": "display_data"
    },
    {
     "data": {
      "text/html": [
       "<pre>| 0         | 1        | 1.000000  | 0.002780     | 7700000.000000     | 653047.733994                   |</pre>"
      ],
      "text/plain": [
       "| 0         | 1        | 1.000000  | 0.002780     | 7700000.000000     | 653047.733994                   |"
      ]
     },
     "metadata": {},
     "output_type": "display_data"
    },
    {
     "data": {
      "text/html": [
       "<pre>| 1         | 2        | 0.000002  | 0.131113     | 6962915.603493     | 426631.749026                   |</pre>"
      ],
      "text/plain": [
       "| 1         | 2        | 0.000002  | 0.131113     | 6962915.603493     | 426631.749026                   |"
      ]
     },
     "metadata": {},
     "output_type": "display_data"
    },
    {
     "data": {
      "text/html": [
       "<pre>| 2         | 3        | 0.000002  | 0.141657     | 6843144.200219     | 392488.929838                   |</pre>"
      ],
      "text/plain": [
       "| 2         | 3        | 0.000002  | 0.141657     | 6843144.200219     | 392488.929838                   |"
      ]
     },
     "metadata": {},
     "output_type": "display_data"
    },
    {
     "data": {
      "text/html": [
       "<pre>| 3         | 4        | 0.000002  | 0.152171     | 6831900.032123     | 385340.166783                   |</pre>"
      ],
      "text/plain": [
       "| 3         | 4        | 0.000002  | 0.152171     | 6831900.032123     | 385340.166783                   |"
      ]
     },
     "metadata": {},
     "output_type": "display_data"
    },
    {
     "data": {
      "text/html": [
       "<pre>| 4         | 5        | 0.000002  | 0.164823     | 6847166.848958     | 384842.383767                   |</pre>"
      ],
      "text/plain": [
       "| 4         | 5        | 0.000002  | 0.164823     | 6847166.848958     | 384842.383767                   |"
      ]
     },
     "metadata": {},
     "output_type": "display_data"
    },
    {
     "data": {
      "text/html": [
       "<pre>| 5         | 6        | 0.000002  | 0.175479     | 6869667.895833     | 385998.458623                   |</pre>"
      ],
      "text/plain": [
       "| 5         | 6        | 0.000002  | 0.175479     | 6869667.895833     | 385998.458623                   |"
      ]
     },
     "metadata": {},
     "output_type": "display_data"
    },
    {
     "data": {
      "text/html": [
       "<pre>| 10        | 11       | 0.000002  | 0.229866     | 6842123.232651     | 364204.576180                   |</pre>"
      ],
      "text/plain": [
       "| 10        | 11       | 0.000002  | 0.229866     | 6842123.232651     | 364204.576180                   |"
      ]
     },
     "metadata": {},
     "output_type": "display_data"
    },
    {
     "data": {
      "text/html": [
       "<pre>+-----------+----------+-----------+--------------+--------------------+---------------------------------+</pre>"
      ],
      "text/plain": [
       "+-----------+----------+-----------+--------------+--------------------+---------------------------------+"
      ]
     },
     "metadata": {},
     "output_type": "display_data"
    },
    {
     "data": {
      "text/html": [
       "<pre>Completed (Iteration limit reached).</pre>"
      ],
      "text/plain": [
       "Completed (Iteration limit reached)."
      ]
     },
     "metadata": {},
     "output_type": "display_data"
    },
    {
     "data": {
      "text/html": [
       "<pre>This model may not be optimal. To improve it, consider increasing `max_iterations`.</pre>"
      ],
      "text/plain": [
       "This model may not be optimal. To improve it, consider increasing `max_iterations`."
      ]
     },
     "metadata": {},
     "output_type": "display_data"
    }
   ],
   "source": [
    "model_all = turicreate.linear_regression.create(sales, target='price', features=all_features,\n",
    "                                                validation_set=None, \n",
    "                                                l2_penalty=0., l1_penalty=1e10)"
   ]
  },
  {
   "cell_type": "markdown",
   "metadata": {},
   "source": [
    "Find what features had non-zero weight."
   ]
  },
  {
   "cell_type": "code",
   "execution_count": 175,
   "metadata": {},
   "outputs": [
    {
     "name": "stdout",
     "output_type": "stream",
     "text": [
      "+------------------+-------+--------------------+--------+\n",
      "|       name       | index |       value        | stderr |\n",
      "+------------------+-------+--------------------+--------+\n",
      "|   (intercept)    |  None | 274873.05595049576 |  None  |\n",
      "|     bedrooms     |  None |        0.0         |  None  |\n",
      "| bedrooms_square  |  None |        0.0         |  None  |\n",
      "|    bathrooms     |  None | 8468.531086910105  |  None  |\n",
      "|   sqft_living    |  None | 24.42072098244546  |  None  |\n",
      "| sqft_living_sqrt |  None | 350.06055338605546 |  None  |\n",
      "|     sqft_lot     |  None |        0.0         |  None  |\n",
      "|  sqft_lot_sqrt   |  None |        0.0         |  None  |\n",
      "|      floors      |  None |        0.0         |  None  |\n",
      "|  floors_square   |  None |        0.0         |  None  |\n",
      "|    waterfront    |  None |        0.0         |  None  |\n",
      "|       view       |  None |        0.0         |  None  |\n",
      "|    condition     |  None |        0.0         |  None  |\n",
      "|      grade       |  None | 842.0680348976231  |  None  |\n",
      "|    sqft_above    |  None | 20.024722417091112 |  None  |\n",
      "|  sqft_basement   |  None |        0.0         |  None  |\n",
      "|     yr_built     |  None |        0.0         |  None  |\n",
      "|   yr_renovated   |  None |        0.0         |  None  |\n",
      "+------------------+-------+--------------------+--------+\n",
      "[18 rows x 4 columns]\n",
      "\n"
     ]
    }
   ],
   "source": [
    "model_all.coefficients.print_rows(num_rows=18)"
   ]
  },
  {
   "cell_type": "markdown",
   "metadata": {},
   "source": [
    "Note that a majority of the weights have been set to zero. So by setting an L1 penalty that's large enough, we are performing a subset selection. \n",
    "\n",
    "***QUIZ QUESTION***:\n",
    "According to this list of weights, which of the features have been chosen? "
   ]
  },
  {
   "cell_type": "markdown",
   "metadata": {},
   "source": [
    "# Selecting an L1 penalty"
   ]
  },
  {
   "cell_type": "markdown",
   "metadata": {},
   "source": [
    "To find a good L1 penalty, we will explore multiple values using a validation set. Let us do three way split into train, validation, and test sets:\n",
    "* Split our sales data into 2 sets: training and test\n",
    "* Further split our training data into two sets: train, validation\n",
    "\n",
    "Be *very* careful that you use seed = 1 to ensure you get the same answer!"
   ]
  },
  {
   "cell_type": "code",
   "execution_count": 176,
   "metadata": {},
   "outputs": [],
   "source": [
    "(training_and_validation, testing) = sales.random_split(.9,seed=1) # initial train/test split\n",
    "(training, validation) = training_and_validation.random_split(0.5, seed=1) # split training into train and validate"
   ]
  },
  {
   "cell_type": "markdown",
   "metadata": {},
   "source": [
    "Next, we write a loop that does the following:\n",
    "* For `l1_penalty` in [10^1, 10^1.5, 10^2, 10^2.5, ..., 10^7] (to get this in Python, type `np.logspace(1, 7, num=13)`.)\n",
    "    * Fit a regression model with a given `l1_penalty` on TRAIN data. Specify `l1_penalty=l1_penalty` and `l2_penalty=0.` in the parameter list.\n",
    "    * Compute the RSS on VALIDATION data (here you will want to use `.predict()`) for that `l1_penalty`\n",
    "* Report which `l1_penalty` produced the lowest RSS on validation data.\n",
    "\n",
    "When you call `linear_regression.create()` make sure you set `validation_set = None`.\n",
    "\n",
    "Note: you can turn off the print out of `linear_regression.create()` with `verbose = False`"
   ]
  },
  {
   "cell_type": "code",
   "execution_count": 194,
   "metadata": {},
   "outputs": [],
   "source": [
    "import numpy as np\n",
    "\n",
    "def l1_selector(l1_range):\n",
    "    # set as None so we can find minimum doing < comparison\n",
    "    min_RSS = None\n",
    "    # list of the number of nonzero features for each model\n",
    "    num_nonzeros = []\n",
    "\n",
    "    for l1_penalty in l1_range:\n",
    "        print('L1:', l1_penalty)\n",
    "        model = turicreate.linear_regression.create(training, target='price', features=all_features,\n",
    "                                                  validation_set=None, l2_penalty=0.0, l1_penalty=l1_penalty, verbose=False)\n",
    "        \n",
    "        # use validation set to compute RSS for penalty selection\n",
    "        pred = model.predict(validation)\n",
    "        RSS = np.square(pred-validation['price']).sum()\n",
    "        print(\"RSS: %0.2f\" % RSS)\n",
    "        nnz = model.coefficients['value'].nnz()\n",
    "        num_nonzeros.append((l1_penalty,RSS,nnz))\n",
    "        print(\"# non-zeros: %i\\n\" % nnz)\n",
    "\n",
    "        if min_RSS is None or RSS < min_RSS:\n",
    "            best_model = model\n",
    "            min_RSS = RSS\n",
    "            best_l1 = l1_penalty\n",
    "\n",
    "    return best_model, best_l1, min_RSS, num_nonzeros"
   ]
  },
  {
   "cell_type": "markdown",
   "metadata": {},
   "source": [
    "*** QUIZ QUESTION. *** What was the best value for the `l1_penalty`?"
   ]
  },
  {
   "cell_type": "code",
   "execution_count": 178,
   "metadata": {},
   "outputs": [
    {
     "name": "stdout",
     "output_type": "stream",
     "text": [
      "L1: 10.0\n",
      "RSS: 625766285142460.50\n",
      "# non-zeros: 18\n",
      "\n",
      "L1: 31.622776601683793\n",
      "RSS: 625766285362393.88\n",
      "# non-zeros: 18\n",
      "\n",
      "L1: 100.0\n",
      "RSS: 625766286057885.25\n",
      "# non-zeros: 18\n",
      "\n",
      "L1: 316.22776601683796\n",
      "RSS: 625766288257224.75\n",
      "# non-zeros: 18\n",
      "\n",
      "L1: 1000.0\n",
      "RSS: 625766295212186.00\n",
      "# non-zeros: 18\n",
      "\n",
      "L1: 3162.2776601683795\n",
      "RSS: 625766317206080.62\n",
      "# non-zeros: 18\n",
      "\n",
      "L1: 10000.0\n",
      "RSS: 625766386760658.12\n",
      "# non-zeros: 18\n",
      "\n",
      "L1: 31622.776601683792\n",
      "RSS: 625766606749278.62\n",
      "# non-zeros: 18\n",
      "\n",
      "L1: 100000.0\n",
      "RSS: 625767302791635.12\n",
      "# non-zeros: 18\n",
      "\n",
      "L1: 316227.7660168379\n",
      "RSS: 625769507643885.88\n",
      "# non-zeros: 18\n",
      "\n",
      "L1: 1000000.0\n",
      "RSS: 625776517727024.38\n",
      "# non-zeros: 18\n",
      "\n",
      "L1: 3162277.6601683795\n",
      "RSS: 625799062845466.62\n",
      "# non-zeros: 18\n",
      "\n",
      "L1: 10000000.0\n",
      "RSS: 625883719085425.25\n",
      "# non-zeros: 18\n",
      "\n",
      "best L1 penalty: 10.0\n",
      "min RSS: 625766285142460.5\n"
     ]
    }
   ],
   "source": [
    "best_model_ini = l1_selector(np.logspace(1, 7, num=13))\n",
    "print('best L1 penalty:', best_model_ini[1])\n",
    "print('min RSS:', best_model_ini[2])"
   ]
  },
  {
   "cell_type": "markdown",
   "metadata": {},
   "source": [
    "***QUIZ QUESTION***\n",
    "Also, using this value of L1 penalty, how many nonzero weights do you have?"
   ]
  },
  {
   "cell_type": "code",
   "execution_count": 179,
   "metadata": {},
   "outputs": [
    {
     "name": "stdout",
     "output_type": "stream",
     "text": [
      "+------------------+-------+----------------------+--------+\n",
      "|       name       | index |        value         | stderr |\n",
      "+------------------+-------+----------------------+--------+\n",
      "|   (intercept)    |  None |   18993.4272127706   |  None  |\n",
      "|     bedrooms     |  None |  7936.9676790313015  |  None  |\n",
      "| bedrooms_square  |  None |  936.9933681932994   |  None  |\n",
      "|    bathrooms     |  None |  25409.588934120668  |  None  |\n",
      "|   sqft_living    |  None |  39.11513637970764   |  None  |\n",
      "| sqft_living_sqrt |  None |  1124.650212807717   |  None  |\n",
      "|     sqft_lot     |  None | 0.003483618222989654 |  None  |\n",
      "|  sqft_lot_sqrt   |  None |  148.25839101140826  |  None  |\n",
      "|      floors      |  None |  21204.335466950117  |  None  |\n",
      "|  floors_square   |  None |  12915.524336072433  |  None  |\n",
      "|    waterfront    |  None |   601905.594545272   |  None  |\n",
      "|       view       |  None |  93312.85731187189   |  None  |\n",
      "|    condition     |  None |  6609.035712447216   |  None  |\n",
      "|      grade       |  None |  6206.939991880552   |  None  |\n",
      "|    sqft_above    |  None |  43.287053419335614  |  None  |\n",
      "|  sqft_basement   |  None |  122.3678275341193   |  None  |\n",
      "|     yr_built     |  None |  9.433635393724911   |  None  |\n",
      "|   yr_renovated   |  None |  56.072003448822365  |  None  |\n",
      "+------------------+-------+----------------------+--------+\n",
      "[18 rows x 4 columns]\n",
      "\n"
     ]
    }
   ],
   "source": [
    "best_model_ini[0].coefficients.print_rows(num_rows=18)"
   ]
  },
  {
   "cell_type": "markdown",
   "metadata": {},
   "source": [
    "# Limit the number of nonzero weights\n",
    "\n",
    "What if we absolutely wanted to limit ourselves to, say, 7 features? This may be important if we want to derive \"a rule of thumb\" --- an interpretable model that has only a few features in them."
   ]
  },
  {
   "cell_type": "markdown",
   "metadata": {},
   "source": [
    "In this section, you are going to implement a simple, two phase procedure to achive this goal:\n",
    "1. Explore a large range of `l1_penalty` values to find a narrow region of `l1_penalty` values where models are likely to have the desired number of non-zero weights.\n",
    "2. Further explore the narrow region you found to find a good value for `l1_penalty` that achieves the desired sparsity.  Here, we will again use a validation set to choose the best value for `l1_penalty`."
   ]
  },
  {
   "cell_type": "code",
   "execution_count": 180,
   "metadata": {},
   "outputs": [],
   "source": [
    "max_nonzeros = 7"
   ]
  },
  {
   "cell_type": "markdown",
   "metadata": {},
   "source": [
    "## Exploring the larger range of values to find a narrow range with the desired sparsity\n",
    "\n",
    "Let's define a wide range of possible `l1_penalty_values`:"
   ]
  },
  {
   "cell_type": "code",
   "execution_count": 181,
   "metadata": {},
   "outputs": [],
   "source": [
    "l1_penalty_values_wide = np.logspace(8, 10, num=20)"
   ]
  },
  {
   "cell_type": "markdown",
   "metadata": {},
   "source": [
    "Now, implement a loop that search through this space of possible `l1_penalty` values:\n",
    "\n",
    "* For `l1_penalty` in `np.logspace(8, 10, num=20)`:\n",
    "    * Fit a regression model with a given `l1_penalty` on TRAIN data. Specify `l1_penalty=l1_penalty` and `l2_penalty=0.` in the parameter list. When you call `linear_regression.create()` make sure you set `validation_set = None`\n",
    "    * Extract the weights of the model and count the number of nonzeros. Save the number of nonzeros to a list.\n",
    "        * *Hint: `model.coefficients['value']` gives you an SArray with the parameters you learned.  If you call the method `.nnz()` on it, you will find the number of non-zero parameters!* "
   ]
  },
  {
   "cell_type": "code",
   "execution_count": 182,
   "metadata": {},
   "outputs": [
    {
     "name": "stdout",
     "output_type": "stream",
     "text": [
      "L1: 100000000.0\n",
      "RSS: 627492659875075.25\n",
      "# non-zeros: 18\n",
      "\n",
      "L1: 127427498.57031322\n",
      "RSS: 628210516770747.25\n",
      "# non-zeros: 18\n",
      "\n",
      "L1: 162377673.91887242\n",
      "RSS: 629176689541061.38\n",
      "# non-zeros: 18\n",
      "\n",
      "L1: 206913808.111479\n",
      "RSS: 630650082718674.50\n",
      "# non-zeros: 18\n",
      "\n",
      "L1: 263665089.87303555\n",
      "RSS: 632940229286984.25\n",
      "# non-zeros: 17\n",
      "\n",
      "L1: 335981828.6283788\n",
      "RSS: 636268140229529.50\n",
      "# non-zeros: 17\n",
      "\n",
      "L1: 428133239.8719396\n",
      "RSS: 641261198311187.62\n",
      "# non-zeros: 17\n",
      "\n",
      "L1: 545559478.1168514\n",
      "RSS: 648983455376337.25\n",
      "# non-zeros: 17\n",
      "\n",
      "L1: 695192796.1775591\n",
      "RSS: 660962217696068.50\n",
      "# non-zeros: 17\n",
      "\n",
      "L1: 885866790.4100832\n",
      "RSS: 677261520727858.62\n",
      "# non-zeros: 16\n",
      "\n",
      "L1: 1128837891.6846883\n",
      "RSS: 701046815867076.12\n",
      "# non-zeros: 15\n",
      "\n",
      "L1: 1438449888.2876658\n",
      "RSS: 737850622829048.12\n",
      "# non-zeros: 15\n",
      "\n",
      "L1: 1832980710.8324375\n",
      "RSS: 796163109639833.00\n",
      "# non-zeros: 13\n",
      "\n",
      "L1: 2335721469.0901213\n",
      "RSS: 869018172893693.50\n",
      "# non-zeros: 12\n",
      "\n",
      "L1: 2976351441.6313133\n",
      "RSS: 966925692362085.00\n",
      "# non-zeros: 10\n",
      "\n",
      "L1: 3792690190.7322536\n",
      "RSS: 1081867592324112.12\n",
      "# non-zeros: 6\n",
      "\n",
      "L1: 4832930238.571753\n",
      "RSS: 1244927360324958.75\n",
      "# non-zeros: 5\n",
      "\n",
      "L1: 6158482110.6602545\n",
      "RSS: 1384161490235110.50\n",
      "# non-zeros: 3\n",
      "\n",
      "L1: 7847599703.514623\n",
      "RSS: 1230794720455646.25\n",
      "# non-zeros: 1\n",
      "\n",
      "L1: 10000000000.0\n",
      "RSS: 1229157160638600.25\n",
      "# non-zeros: 1\n",
      "\n"
     ]
    }
   ],
   "source": [
    "best_model_limited = l1_selector(l1_penalty_values_wide)"
   ]
  },
  {
   "cell_type": "code",
   "execution_count": 183,
   "metadata": {},
   "outputs": [
    {
     "name": "stdout",
     "output_type": "stream",
     "text": [
      "+------------------+-------+-----------------------+--------+\n",
      "|       name       | index |         value         | stderr |\n",
      "+------------------+-------+-----------------------+--------+\n",
      "|   (intercept)    |  None |   25090.917367212027  |  None  |\n",
      "|     bedrooms     |  None |   7789.1770611005595  |  None  |\n",
      "| bedrooms_square  |  None |   847.5596869428736   |  None  |\n",
      "|    bathrooms     |  None |   25234.209194458625  |  None  |\n",
      "|   sqft_living    |  None |   39.03944596356861   |  None  |\n",
      "| sqft_living_sqrt |  None |   1117.3118955675634  |  None  |\n",
      "|     sqft_lot     |  None | -0.025686118239919474 |  None  |\n",
      "|  sqft_lot_sqrt   |  None |   143.98899196976998  |  None  |\n",
      "|      floors      |  None |   20695.35923964387   |  None  |\n",
      "|  floors_square   |  None |   12466.690650291852  |  None  |\n",
      "|    waterfront    |  None |   568204.6445841155   |  None  |\n",
      "|       view       |  None |   91066.94280879851   |  None  |\n",
      "|    condition     |  None |    6360.78092624981   |  None  |\n",
      "|      grade       |  None |   6139.2128056478905  |  None  |\n",
      "|    sqft_above    |  None |   43.03582992460563   |  None  |\n",
      "|  sqft_basement   |  None |   118.9458749543526   |  None  |\n",
      "|     yr_built     |  None |   9.040401654020457   |  None  |\n",
      "|   yr_renovated   |  None |   48.615467309274564  |  None  |\n",
      "+------------------+-------+-----------------------+--------+\n",
      "[18 rows x 4 columns]\n",
      "\n"
     ]
    }
   ],
   "source": [
    "best_model_limited[0].coefficients.print_rows(num_rows=18)"
   ]
  },
  {
   "cell_type": "markdown",
   "metadata": {},
   "source": [
    "Out of this large range, we want to find the two ends of our desired narrow range of `l1_penalty`.  At one end, we will have `l1_penalty` values that have too few non-zeros, and at the other end, we will have an `l1_penalty` that has too many non-zeros.  \n",
    "\n",
    "More formally, find:\n",
    "* The largest `l1_penalty` that has more non-zeros than `max_nonzeros` (if we pick a penalty smaller than this value, we will definitely have too many non-zero weights)\n",
    "    * Store this value in the variable `l1_penalty_min` (we will use it later)\n",
    "* The smallest `l1_penalty` that has fewer non-zeros than `max_nonzeros` (if we pick a penalty larger than this value, we will definitely have too few non-zero weights)\n",
    "    * Store this value in the variable `l1_penalty_max` (we will use it later)\n",
    "\n",
    "\n",
    "*Hint: there are many ways to do this, e.g.:*\n",
    "* Programmatically within the loop above\n",
    "* Creating a list with the number of non-zeros for each value of `l1_penalty` and inspecting it to find the appropriate boundaries."
   ]
  },
  {
   "cell_type": "code",
   "execution_count": 184,
   "metadata": {},
   "outputs": [
    {
     "data": {
      "text/plain": [
       "[(100000000.0, 627492659875075.2, 18),\n",
       " (127427498.57031322, 628210516770747.2, 18),\n",
       " (162377673.91887242, 629176689541061.4, 18),\n",
       " (206913808.111479, 630650082718674.5, 18),\n",
       " (263665089.87303555, 632940229286984.2, 17),\n",
       " (335981828.6283788, 636268140229529.5, 17),\n",
       " (428133239.8719396, 641261198311187.6, 17),\n",
       " (545559478.1168514, 648983455376337.2, 17),\n",
       " (695192796.1775591, 660962217696068.5, 17),\n",
       " (885866790.4100832, 677261520727858.6, 16),\n",
       " (1128837891.6846883, 701046815867076.1, 15),\n",
       " (1438449888.2876658, 737850622829048.1, 15),\n",
       " (1832980710.8324375, 796163109639833.0, 13),\n",
       " (2335721469.0901213, 869018172893693.5, 12),\n",
       " (2976351441.6313133, 966925692362085.0, 10),\n",
       " (3792690190.7322536, 1081867592324112.1, 6),\n",
       " (4832930238.571753, 1244927360324958.8, 5),\n",
       " (6158482110.6602545, 1384161490235110.5, 3),\n",
       " (7847599703.514623, 1230794720455646.2, 1),\n",
       " (10000000000.0, 1229157160638600.2, 1)]"
      ]
     },
     "execution_count": 184,
     "metadata": {},
     "output_type": "execute_result"
    }
   ],
   "source": [
    "num_nonzeros_limited = best_model_limited[3]\n",
    "num_nonzeros_limited"
   ]
  },
  {
   "cell_type": "code",
   "execution_count": 185,
   "metadata": {},
   "outputs": [],
   "source": [
    "l1_penalty_min = max([p[0] for p in l1_nonzeros_limited if p[2] > max_nonzeros])\n",
    "l1_penalty_max = min([p[0] for p in l1_nonzeros_limited if p[2] < max_nonzeros])"
   ]
  },
  {
   "cell_type": "markdown",
   "metadata": {},
   "source": [
    "***QUIZ QUESTION.*** What values did you find for `l1_penalty_min` and `l1_penalty_max`, respectively? "
   ]
  },
  {
   "cell_type": "code",
   "execution_count": 186,
   "metadata": {},
   "outputs": [
    {
     "name": "stdout",
     "output_type": "stream",
     "text": [
      "Max Nonzero features: 7\n",
      "Min L1:\t 2976351441.6313133\n",
      "Max L1:\t 3792690190.7322536\n"
     ]
    }
   ],
   "source": [
    "print('Max Nonzero features:', max_nonzeros)\n",
    "print('Min L1:\\t', l1_penalty_min)\n",
    "print('Max L1:\\t', l1_penalty_max)"
   ]
  },
  {
   "cell_type": "markdown",
   "metadata": {},
   "source": [
    "## Exploring the narrow range of values to find the solution with the right number of non-zeros that has lowest RSS on the validation set \n",
    "\n",
    "We will now explore the narrow region of `l1_penalty` values we found:"
   ]
  },
  {
   "cell_type": "code",
   "execution_count": 187,
   "metadata": {},
   "outputs": [],
   "source": [
    "l1_penalty_values_narrow = np.linspace(l1_penalty_min,l1_penalty_max,20)"
   ]
  },
  {
   "cell_type": "markdown",
   "metadata": {},
   "source": [
    "* For `l1_penalty` in `np.linspace(l1_penalty_min,l1_penalty_max,20)`:\n",
    "    * Fit a regression model with a given `l1_penalty` on TRAIN data. Specify `l1_penalty=l1_penalty` and `l2_penalty=0.` in the parameter list. When you call `linear_regression.create()` make sure you set `validation_set = None`\n",
    "    * Measure the RSS of the learned model on the VALIDATION set\n",
    "\n",
    "Find the model that the lowest RSS on the VALIDATION set and has sparsity *equal* to `max_nonzeros`."
   ]
  },
  {
   "cell_type": "code",
   "execution_count": 188,
   "metadata": {},
   "outputs": [
    {
     "name": "stdout",
     "output_type": "stream",
     "text": [
      "L1: 2976351441.6313133\n",
      "RSS: 966925692362085.00\n",
      "# non-zeros: 10\n",
      "\n",
      "L1: 3019316638.9524155\n",
      "RSS: 974019450084554.62\n",
      "# non-zeros: 10\n",
      "\n",
      "L1: 3062281836.2735176\n",
      "RSS: 981188367942453.62\n",
      "# non-zeros: 10\n",
      "\n",
      "L1: 3105247033.5946198\n",
      "RSS: 989328342459473.25\n",
      "# non-zeros: 10\n",
      "\n",
      "L1: 3148212230.915722\n",
      "RSS: 998783211265889.75\n",
      "# non-zeros: 10\n",
      "\n",
      "L1: 3191177428.236824\n",
      "RSS: 1008477167020093.50\n",
      "# non-zeros: 10\n",
      "\n",
      "L1: 3234142625.557926\n",
      "RSS: 1018298780553819.50\n",
      "# non-zeros: 10\n",
      "\n",
      "L1: 3277107822.8790283\n",
      "RSS: 1028247992205976.75\n",
      "# non-zeros: 10\n",
      "\n",
      "L1: 3320073020.2001305\n",
      "RSS: 1034616909232827.12\n",
      "# non-zeros: 8\n",
      "\n",
      "L1: 3363038217.5212326\n",
      "RSS: 1038554735941040.38\n",
      "# non-zeros: 8\n",
      "\n",
      "L1: 3406003414.8423347\n",
      "RSS: 1043237237871701.62\n",
      "# non-zeros: 8\n",
      "\n",
      "L1: 3448968612.163437\n",
      "RSS: 1046937488751710.75\n",
      "# non-zeros: 7\n",
      "\n",
      "L1: 3491933809.484539\n",
      "RSS: 1051147625612862.25\n",
      "# non-zeros: 7\n",
      "\n",
      "L1: 3534899006.805641\n",
      "RSS: 1055992735342999.38\n",
      "# non-zeros: 7\n",
      "\n",
      "L1: 3577864204.126743\n",
      "RSS: 1060799531763287.25\n",
      "# non-zeros: 7\n",
      "\n",
      "L1: 3620829401.447845\n",
      "RSS: 1065707689498230.12\n",
      "# non-zeros: 6\n",
      "\n",
      "L1: 3663794598.768947\n",
      "RSS: 1069464335425584.75\n",
      "# non-zeros: 6\n",
      "\n",
      "L1: 3706759796.0900493\n",
      "RSS: 1073504549585599.00\n",
      "# non-zeros: 6\n",
      "\n",
      "L1: 3749724993.4111514\n",
      "RSS: 1077632775581415.25\n",
      "# non-zeros: 6\n",
      "\n",
      "L1: 3792690190.7322536\n",
      "RSS: 1081867592324112.12\n",
      "# non-zeros: 6\n",
      "\n"
     ]
    }
   ],
   "source": [
    "best_model_narrow = l1_selector(l1_penalty_values_narrow)\n",
    "l1_nonzeros_narrow = best_model_narrow[3]"
   ]
  },
  {
   "cell_type": "markdown",
   "metadata": {},
   "source": [
    "***QUIZ QUESTIONS***\n",
    "1. What value of `l1_penalty` in our narrow range has the lowest RSS on the VALIDATION set and has sparsity *equal* to `max_nonzeros`?\n",
    "2. What features in this model have non-zero coefficients?"
   ]
  },
  {
   "cell_type": "code",
   "execution_count": 189,
   "metadata": {},
   "outputs": [
    {
     "name": "stdout",
     "output_type": "stream",
     "text": [
      "best L1 penalty: 3448968612.163437\n",
      "min RSS: 1046937488751710.8\n"
     ]
    }
   ],
   "source": [
    "# list of L1 data where we have max_nonzeros\n",
    "l1_narrow = [(p[0],p[1]) for p in l1_nonzeros_narrow if p[2] == max_nonzeros]\n",
    "# L1 with least RSS\n",
    "best_l1_narrow = min(l1_narrow, key = lambda x: x[1])\n",
    "print('best L1 penalty:', best_l1_narrow[0])\n",
    "print('min RSS:', best_l1_narrow[1])"
   ]
  },
  {
   "cell_type": "code",
   "execution_count": 190,
   "metadata": {},
   "outputs": [],
   "source": [
    "model = turicreate.linear_regression.create(training, target='price', features=all_features,\n",
    "                                              validation_set=None, l2_penalty=0.0, l1_penalty=best_l1_narrow[0], verbose=False)"
   ]
  },
  {
   "cell_type": "code",
   "execution_count": 191,
   "metadata": {},
   "outputs": [
    {
     "name": "stdout",
     "output_type": "stream",
     "text": [
      "+------------------+-------+--------------------+--------+\n",
      "|       name       | index |       value        | stderr |\n",
      "+------------------+-------+--------------------+--------+\n",
      "|   (intercept)    |  None | 222253.1925443279  |  None  |\n",
      "|     bedrooms     |  None | 661.7227177822278  |  None  |\n",
      "| bedrooms_square  |  None |        0.0         |  None  |\n",
      "|    bathrooms     |  None |  15873.957259268   |  None  |\n",
      "|   sqft_living    |  None | 32.41022145125974  |  None  |\n",
      "| sqft_living_sqrt |  None | 690.1147733133166  |  None  |\n",
      "|     sqft_lot     |  None |        0.0         |  None  |\n",
      "|  sqft_lot_sqrt   |  None |        0.0         |  None  |\n",
      "|      floors      |  None |        0.0         |  None  |\n",
      "|  floors_square   |  None |        0.0         |  None  |\n",
      "|    waterfront    |  None |        0.0         |  None  |\n",
      "|       view       |  None |        0.0         |  None  |\n",
      "|    condition     |  None |        0.0         |  None  |\n",
      "|      grade       |  None | 2899.420269749878  |  None  |\n",
      "|    sqft_above    |  None | 30.011575302201138 |  None  |\n",
      "|  sqft_basement   |  None |        0.0         |  None  |\n",
      "|     yr_built     |  None |        0.0         |  None  |\n",
      "|   yr_renovated   |  None |        0.0         |  None  |\n",
      "+------------------+-------+--------------------+--------+\n",
      "[18 rows x 4 columns]\n",
      "\n"
     ]
    }
   ],
   "source": [
    "model.coefficients.print_rows(num_rows=18)"
   ]
  }
 ],
 "metadata": {
  "kernelspec": {
   "display_name": "Python 3",
   "language": "python",
   "name": "python3"
  },
  "language_info": {
   "codemirror_mode": {
    "name": "ipython",
    "version": 3
   },
   "file_extension": ".py",
   "mimetype": "text/x-python",
   "name": "python",
   "nbconvert_exporter": "python",
   "pygments_lexer": "ipython3",
   "version": "3.8.10"
  }
 },
 "nbformat": 4,
 "nbformat_minor": 1
}
